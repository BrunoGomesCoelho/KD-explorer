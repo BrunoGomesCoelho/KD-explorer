{
  "nbformat": 4,
  "nbformat_minor": 5,
  "metadata": {
    "accelerator": "GPU",
    "colab": {
      "name": "KD Models.ipynb",
      "provenance": [],
      "collapsed_sections": []
    },
    "kernelspec": {
      "display_name": "Python 3",
      "language": "python",
      "name": "python3"
    },
    "language_info": {
      "codemirror_mode": {
        "name": "ipython",
        "version": 3
      },
      "file_extension": ".py",
      "mimetype": "text/x-python",
      "name": "python",
      "nbconvert_exporter": "python",
      "pygments_lexer": "ipython3",
      "version": "3.6.9"
    },
    "latex_envs": {
      "LaTeX_envs_menu_present": true,
      "autoclose": false,
      "autocomplete": false,
      "bibliofile": "biblio.bib",
      "cite_by": "apalike",
      "current_citInitial": 1,
      "eqLabelWithNumbers": false,
      "eqNumInitial": 1,
      "hotkeys": {
        "equation": "Ctrl-E",
        "itemize": "Ctrl-I"
      },
      "labels_anchors": false,
      "latex_user_defs": false,
      "report_style_numbering": false,
      "user_envs_cfg": false
    },
    "toc": {
      "base_numbering": 1,
      "nav_menu": {},
      "number_sections": true,
      "sideBar": true,
      "skip_h1_title": false,
      "title_cell": "Table of Contents",
      "title_sidebar": "Contents",
      "toc_cell": false,
      "toc_position": {},
      "toc_section_display": true,
      "toc_window_display": false
    },
    "widgets": {
      "application/vnd.jupyter.widget-state+json": {
        "9bb0f2806f3848f9aa1cb729c90ba4cf": {
          "model_module": "@jupyter-widgets/controls",
          "model_name": "HBoxModel",
          "state": {
            "_dom_classes": [],
            "_model_module": "@jupyter-widgets/controls",
            "_model_module_version": "1.5.0",
            "_model_name": "HBoxModel",
            "_view_count": null,
            "_view_module": "@jupyter-widgets/controls",
            "_view_module_version": "1.5.0",
            "_view_name": "HBoxView",
            "box_style": "",
            "children": [
              "IPY_MODEL_f47c7d439d40479898fbbc158b0a3e7e",
              "IPY_MODEL_855e8db14f524743b12a26390d23980d"
            ],
            "layout": "IPY_MODEL_9a0e96336ffb44379c0c7becd267c0a6"
          }
        },
        "f47c7d439d40479898fbbc158b0a3e7e": {
          "model_module": "@jupyter-widgets/controls",
          "model_name": "FloatProgressModel",
          "state": {
            "_dom_classes": [],
            "_model_module": "@jupyter-widgets/controls",
            "_model_module_version": "1.5.0",
            "_model_name": "FloatProgressModel",
            "_view_count": null,
            "_view_module": "@jupyter-widgets/controls",
            "_view_module_version": "1.5.0",
            "_view_name": "ProgressView",
            "bar_style": "success",
            "description": "",
            "description_tooltip": null,
            "layout": "IPY_MODEL_53bc17923dad43cdad8af52692a3b295",
            "max": 169001437,
            "min": 0,
            "orientation": "horizontal",
            "style": "IPY_MODEL_1959407769c34f70b0dd455aecdf48d5",
            "value": 169001437
          }
        },
        "855e8db14f524743b12a26390d23980d": {
          "model_module": "@jupyter-widgets/controls",
          "model_name": "HTMLModel",
          "state": {
            "_dom_classes": [],
            "_model_module": "@jupyter-widgets/controls",
            "_model_module_version": "1.5.0",
            "_model_name": "HTMLModel",
            "_view_count": null,
            "_view_module": "@jupyter-widgets/controls",
            "_view_module_version": "1.5.0",
            "_view_name": "HTMLView",
            "description": "",
            "description_tooltip": null,
            "layout": "IPY_MODEL_13e19ecf49ec4c37926c05fec84840d7",
            "placeholder": "​",
            "style": "IPY_MODEL_9b3a8aff804d47c2910e434c09f142f2",
            "value": " 169001984/? [00:05&lt;00:00, 33527641.94it/s]"
          }
        },
        "9a0e96336ffb44379c0c7becd267c0a6": {
          "model_module": "@jupyter-widgets/base",
          "model_name": "LayoutModel",
          "state": {
            "_model_module": "@jupyter-widgets/base",
            "_model_module_version": "1.2.0",
            "_model_name": "LayoutModel",
            "_view_count": null,
            "_view_module": "@jupyter-widgets/base",
            "_view_module_version": "1.2.0",
            "_view_name": "LayoutView",
            "align_content": null,
            "align_items": null,
            "align_self": null,
            "border": null,
            "bottom": null,
            "display": null,
            "flex": null,
            "flex_flow": null,
            "grid_area": null,
            "grid_auto_columns": null,
            "grid_auto_flow": null,
            "grid_auto_rows": null,
            "grid_column": null,
            "grid_gap": null,
            "grid_row": null,
            "grid_template_areas": null,
            "grid_template_columns": null,
            "grid_template_rows": null,
            "height": null,
            "justify_content": null,
            "justify_items": null,
            "left": null,
            "margin": null,
            "max_height": null,
            "max_width": null,
            "min_height": null,
            "min_width": null,
            "object_fit": null,
            "object_position": null,
            "order": null,
            "overflow": null,
            "overflow_x": null,
            "overflow_y": null,
            "padding": null,
            "right": null,
            "top": null,
            "visibility": null,
            "width": null
          }
        },
        "53bc17923dad43cdad8af52692a3b295": {
          "model_module": "@jupyter-widgets/base",
          "model_name": "LayoutModel",
          "state": {
            "_model_module": "@jupyter-widgets/base",
            "_model_module_version": "1.2.0",
            "_model_name": "LayoutModel",
            "_view_count": null,
            "_view_module": "@jupyter-widgets/base",
            "_view_module_version": "1.2.0",
            "_view_name": "LayoutView",
            "align_content": null,
            "align_items": null,
            "align_self": null,
            "border": null,
            "bottom": null,
            "display": null,
            "flex": null,
            "flex_flow": null,
            "grid_area": null,
            "grid_auto_columns": null,
            "grid_auto_flow": null,
            "grid_auto_rows": null,
            "grid_column": null,
            "grid_gap": null,
            "grid_row": null,
            "grid_template_areas": null,
            "grid_template_columns": null,
            "grid_template_rows": null,
            "height": null,
            "justify_content": null,
            "justify_items": null,
            "left": null,
            "margin": null,
            "max_height": null,
            "max_width": null,
            "min_height": null,
            "min_width": null,
            "object_fit": null,
            "object_position": null,
            "order": null,
            "overflow": null,
            "overflow_x": null,
            "overflow_y": null,
            "padding": null,
            "right": null,
            "top": null,
            "visibility": null,
            "width": null
          }
        },
        "1959407769c34f70b0dd455aecdf48d5": {
          "model_module": "@jupyter-widgets/controls",
          "model_name": "ProgressStyleModel",
          "state": {
            "_model_module": "@jupyter-widgets/controls",
            "_model_module_version": "1.5.0",
            "_model_name": "ProgressStyleModel",
            "_view_count": null,
            "_view_module": "@jupyter-widgets/base",
            "_view_module_version": "1.2.0",
            "_view_name": "StyleView",
            "bar_color": null,
            "description_width": "initial"
          }
        },
        "13e19ecf49ec4c37926c05fec84840d7": {
          "model_module": "@jupyter-widgets/base",
          "model_name": "LayoutModel",
          "state": {
            "_model_module": "@jupyter-widgets/base",
            "_model_module_version": "1.2.0",
            "_model_name": "LayoutModel",
            "_view_count": null,
            "_view_module": "@jupyter-widgets/base",
            "_view_module_version": "1.2.0",
            "_view_name": "LayoutView",
            "align_content": null,
            "align_items": null,
            "align_self": null,
            "border": null,
            "bottom": null,
            "display": null,
            "flex": null,
            "flex_flow": null,
            "grid_area": null,
            "grid_auto_columns": null,
            "grid_auto_flow": null,
            "grid_auto_rows": null,
            "grid_column": null,
            "grid_gap": null,
            "grid_row": null,
            "grid_template_areas": null,
            "grid_template_columns": null,
            "grid_template_rows": null,
            "height": null,
            "justify_content": null,
            "justify_items": null,
            "left": null,
            "margin": null,
            "max_height": null,
            "max_width": null,
            "min_height": null,
            "min_width": null,
            "object_fit": null,
            "object_position": null,
            "order": null,
            "overflow": null,
            "overflow_x": null,
            "overflow_y": null,
            "padding": null,
            "right": null,
            "top": null,
            "visibility": null,
            "width": null
          }
        },
        "9b3a8aff804d47c2910e434c09f142f2": {
          "model_module": "@jupyter-widgets/controls",
          "model_name": "DescriptionStyleModel",
          "state": {
            "_model_module": "@jupyter-widgets/controls",
            "_model_module_version": "1.5.0",
            "_model_name": "DescriptionStyleModel",
            "_view_count": null,
            "_view_module": "@jupyter-widgets/base",
            "_view_module_version": "1.2.0",
            "_view_name": "StyleView",
            "description_width": ""
          }
        }
      }
    }
  },
  "cells": [
    {
      "cell_type": "markdown",
      "metadata": {
        "id": "15jf9UYQ3d-9"
      },
      "source": [
        "## Setup"
      ],
      "id": "15jf9UYQ3d-9"
    },
    {
      "cell_type": "markdown",
      "metadata": {
        "id": "Pa0QD4nu3d-_"
      },
      "source": [
        "Run the commands below and manually install the KD_Lib library; Note that unstalling it directly from pip will fail due to an [open issue](https://github.com/SforAiDl/KD_Lib/issues/108)."
      ],
      "id": "Pa0QD4nu3d-_"
    },
    {
      "cell_type": "code",
      "metadata": {
        "colab": {
          "base_uri": "https://localhost:8080/"
        },
        "id": "eODoEBB63d_A",
        "outputId": "caa48971-01b1-43e4-ddff-0afa43e505d6"
      },
      "source": [
        "!git clone https://github.com/SforAiDl/KD_Lib.git\n",
        "%cd KD_Lib"
      ],
      "id": "eODoEBB63d_A",
      "execution_count": null,
      "outputs": [
        {
          "output_type": "stream",
          "text": [
            "fatal: destination path 'KD_Lib' already exists and is not an empty directory.\n",
            "/content/KD_Lib\n"
          ],
          "name": "stdout"
        }
      ]
    },
    {
      "cell_type": "code",
      "metadata": {
        "colab": {
          "base_uri": "https://localhost:8080/"
        },
        "id": "fnKTJukp4tzf",
        "outputId": "288ea2ce-5963-4bb6-d2f3-7bc840c73ad3"
      },
      "source": [
        "!python setup.py install"
      ],
      "id": "fnKTJukp4tzf",
      "execution_count": null,
      "outputs": [
        {
          "output_type": "stream",
          "text": [
            "running install\n",
            "running bdist_egg\n",
            "running egg_info\n",
            "writing KD_Lib.egg-info/PKG-INFO\n",
            "writing dependency_links to KD_Lib.egg-info/dependency_links.txt\n",
            "writing requirements to KD_Lib.egg-info/requires.txt\n",
            "writing top-level names to KD_Lib.egg-info/top_level.txt\n",
            "adding license file 'LICENSE' (matched pattern 'LICEN[CS]E*')\n",
            "reading manifest template 'MANIFEST.in'\n",
            "warning: no previously-included files matching '__pycache__' found under directory '*'\n",
            "warning: no previously-included files matching '*.py[co]' found under directory '*'\n",
            "warning: no files found matching '*.jpg' under directory 'docs'\n",
            "warning: no files found matching '*.gif' under directory 'docs'\n",
            "writing manifest file 'KD_Lib.egg-info/SOURCES.txt'\n",
            "installing library code to build/bdist.linux-x86_64/egg\n",
            "running install_lib\n",
            "running build_py\n",
            "creating build/bdist.linux-x86_64/egg\n",
            "creating build/bdist.linux-x86_64/egg/KD_Lib\n",
            "creating build/bdist.linux-x86_64/egg/KD_Lib/Quantization\n",
            "creating build/bdist.linux-x86_64/egg/KD_Lib/Quantization/qat\n",
            "copying build/lib/KD_Lib/Quantization/qat/qat.py -> build/bdist.linux-x86_64/egg/KD_Lib/Quantization/qat\n",
            "copying build/lib/KD_Lib/Quantization/qat/__init__.py -> build/bdist.linux-x86_64/egg/KD_Lib/Quantization/qat\n",
            "creating build/bdist.linux-x86_64/egg/KD_Lib/Quantization/dynamic\n",
            "copying build/lib/KD_Lib/Quantization/dynamic/dynamic_quantization.py -> build/bdist.linux-x86_64/egg/KD_Lib/Quantization/dynamic\n",
            "copying build/lib/KD_Lib/Quantization/dynamic/__init__.py -> build/bdist.linux-x86_64/egg/KD_Lib/Quantization/dynamic\n",
            "creating build/bdist.linux-x86_64/egg/KD_Lib/Quantization/common\n",
            "copying build/lib/KD_Lib/Quantization/common/base_class.py -> build/bdist.linux-x86_64/egg/KD_Lib/Quantization/common\n",
            "copying build/lib/KD_Lib/Quantization/common/__init__.py -> build/bdist.linux-x86_64/egg/KD_Lib/Quantization/common\n",
            "creating build/bdist.linux-x86_64/egg/KD_Lib/Quantization/static\n",
            "copying build/lib/KD_Lib/Quantization/static/static_quantization.py -> build/bdist.linux-x86_64/egg/KD_Lib/Quantization/static\n",
            "copying build/lib/KD_Lib/Quantization/static/__init__.py -> build/bdist.linux-x86_64/egg/KD_Lib/Quantization/static\n",
            "copying build/lib/KD_Lib/Quantization/__init__.py -> build/bdist.linux-x86_64/egg/KD_Lib/Quantization\n",
            "creating build/bdist.linux-x86_64/egg/KD_Lib/KD\n",
            "creating build/bdist.linux-x86_64/egg/KD_Lib/KD/vision\n",
            "creating build/bdist.linux-x86_64/egg/KD_Lib/KD/vision/CSKD\n",
            "copying build/lib/KD_Lib/KD/vision/CSKD/cskd.py -> build/bdist.linux-x86_64/egg/KD_Lib/KD/vision/CSKD\n",
            "copying build/lib/KD_Lib/KD/vision/CSKD/sampler.py -> build/bdist.linux-x86_64/egg/KD_Lib/KD/vision/CSKD\n",
            "copying build/lib/KD_Lib/KD/vision/CSKD/__init__.py -> build/bdist.linux-x86_64/egg/KD_Lib/KD/vision/CSKD\n",
            "creating build/bdist.linux-x86_64/egg/KD_Lib/KD/vision/KA\n",
            "copying build/lib/KD_Lib/KD/vision/KA/LSR.py -> build/bdist.linux-x86_64/egg/KD_Lib/KD/vision/KA\n",
            "copying build/lib/KD_Lib/KD/vision/KA/PS.py -> build/bdist.linux-x86_64/egg/KD_Lib/KD/vision/KA\n",
            "copying build/lib/KD_Lib/KD/vision/KA/__init__.py -> build/bdist.linux-x86_64/egg/KD_Lib/KD/vision/KA\n",
            "creating build/bdist.linux-x86_64/egg/KD_Lib/KD/vision/noisy\n",
            "copying build/lib/KD_Lib/KD/vision/noisy/noisy_teacher.py -> build/bdist.linux-x86_64/egg/KD_Lib/KD/vision/noisy\n",
            "copying build/lib/KD_Lib/KD/vision/noisy/soft_random.py -> build/bdist.linux-x86_64/egg/KD_Lib/KD/vision/noisy\n",
            "copying build/lib/KD_Lib/KD/vision/noisy/utils.py -> build/bdist.linux-x86_64/egg/KD_Lib/KD/vision/noisy\n",
            "copying build/lib/KD_Lib/KD/vision/noisy/messy_collab.py -> build/bdist.linux-x86_64/egg/KD_Lib/KD/vision/noisy\n",
            "copying build/lib/KD_Lib/KD/vision/noisy/__init__.py -> build/bdist.linux-x86_64/egg/KD_Lib/KD/vision/noisy\n",
            "creating build/bdist.linux-x86_64/egg/KD_Lib/KD/vision/teacher_free\n",
            "copying build/lib/KD_Lib/KD/vision/teacher_free/self_training.py -> build/bdist.linux-x86_64/egg/KD_Lib/KD/vision/teacher_free\n",
            "copying build/lib/KD_Lib/KD/vision/teacher_free/virtual_teacher.py -> build/bdist.linux-x86_64/egg/KD_Lib/KD/vision/teacher_free\n",
            "copying build/lib/KD_Lib/KD/vision/teacher_free/__init__.py -> build/bdist.linux-x86_64/egg/KD_Lib/KD/vision/teacher_free\n",
            "creating build/bdist.linux-x86_64/egg/KD_Lib/KD/vision/BANN\n",
            "copying build/lib/KD_Lib/KD/vision/BANN/BANN.py -> build/bdist.linux-x86_64/egg/KD_Lib/KD/vision/BANN\n",
            "copying build/lib/KD_Lib/KD/vision/BANN/__init__.py -> build/bdist.linux-x86_64/egg/KD_Lib/KD/vision/BANN\n",
            "creating build/bdist.linux-x86_64/egg/KD_Lib/KD/vision/DML\n",
            "copying build/lib/KD_Lib/KD/vision/DML/dml.py -> build/bdist.linux-x86_64/egg/KD_Lib/KD/vision/DML\n",
            "copying build/lib/KD_Lib/KD/vision/DML/__init__.py -> build/bdist.linux-x86_64/egg/KD_Lib/KD/vision/DML\n",
            "creating build/bdist.linux-x86_64/egg/KD_Lib/KD/vision/vanilla\n",
            "copying build/lib/KD_Lib/KD/vision/vanilla/vanilla_kd.py -> build/bdist.linux-x86_64/egg/KD_Lib/KD/vision/vanilla\n",
            "copying build/lib/KD_Lib/KD/vision/vanilla/__init__.py -> build/bdist.linux-x86_64/egg/KD_Lib/KD/vision/vanilla\n",
            "creating build/bdist.linux-x86_64/egg/KD_Lib/KD/vision/RCO\n",
            "copying build/lib/KD_Lib/KD/vision/RCO/rco.py -> build/bdist.linux-x86_64/egg/KD_Lib/KD/vision/RCO\n",
            "copying build/lib/KD_Lib/KD/vision/RCO/__init__.py -> build/bdist.linux-x86_64/egg/KD_Lib/KD/vision/RCO\n",
            "creating build/bdist.linux-x86_64/egg/KD_Lib/KD/vision/RKD\n",
            "copying build/lib/KD_Lib/KD/vision/RKD/loss_metric.py -> build/bdist.linux-x86_64/egg/KD_Lib/KD/vision/RKD\n",
            "copying build/lib/KD_Lib/KD/vision/RKD/__init__.py -> build/bdist.linux-x86_64/egg/KD_Lib/KD/vision/RKD\n",
            "creating build/bdist.linux-x86_64/egg/KD_Lib/KD/vision/TAKD\n",
            "copying build/lib/KD_Lib/KD/vision/TAKD/takd.py -> build/bdist.linux-x86_64/egg/KD_Lib/KD/vision/TAKD\n",
            "copying build/lib/KD_Lib/KD/vision/TAKD/__init__.py -> build/bdist.linux-x86_64/egg/KD_Lib/KD/vision/TAKD\n",
            "creating build/bdist.linux-x86_64/egg/KD_Lib/KD/vision/mean_teacher\n",
            "copying build/lib/KD_Lib/KD/vision/mean_teacher/mean_teacher.py -> build/bdist.linux-x86_64/egg/KD_Lib/KD/vision/mean_teacher\n",
            "copying build/lib/KD_Lib/KD/vision/mean_teacher/__init__.py -> build/bdist.linux-x86_64/egg/KD_Lib/KD/vision/mean_teacher\n",
            "creating build/bdist.linux-x86_64/egg/KD_Lib/KD/vision/attention\n",
            "copying build/lib/KD_Lib/KD/vision/attention/loss_metric.py -> build/bdist.linux-x86_64/egg/KD_Lib/KD/vision/attention\n",
            "copying build/lib/KD_Lib/KD/vision/attention/attention.py -> build/bdist.linux-x86_64/egg/KD_Lib/KD/vision/attention\n",
            "copying build/lib/KD_Lib/KD/vision/attention/__init__.py -> build/bdist.linux-x86_64/egg/KD_Lib/KD/vision/attention\n",
            "copying build/lib/KD_Lib/KD/vision/__init__.py -> build/bdist.linux-x86_64/egg/KD_Lib/KD/vision\n",
            "creating build/bdist.linux-x86_64/egg/KD_Lib/KD/common\n",
            "copying build/lib/KD_Lib/KD/common/base_class.py -> build/bdist.linux-x86_64/egg/KD_Lib/KD/common\n",
            "copying build/lib/KD_Lib/KD/common/__init__.py -> build/bdist.linux-x86_64/egg/KD_Lib/KD/common\n",
            "creating build/bdist.linux-x86_64/egg/KD_Lib/KD/text\n",
            "creating build/bdist.linux-x86_64/egg/KD_Lib/KD/text/BERT2LSTM\n",
            "copying build/lib/KD_Lib/KD/text/BERT2LSTM/utils.py -> build/bdist.linux-x86_64/egg/KD_Lib/KD/text/BERT2LSTM\n",
            "copying build/lib/KD_Lib/KD/text/BERT2LSTM/bert2lstm.py -> build/bdist.linux-x86_64/egg/KD_Lib/KD/text/BERT2LSTM\n",
            "copying build/lib/KD_Lib/KD/text/BERT2LSTM/IMDB_Dataset.csv -> build/bdist.linux-x86_64/egg/KD_Lib/KD/text/BERT2LSTM\n",
            "copying build/lib/KD_Lib/KD/text/BERT2LSTM/__init__.py -> build/bdist.linux-x86_64/egg/KD_Lib/KD/text/BERT2LSTM\n",
            "creating build/bdist.linux-x86_64/egg/KD_Lib/KD/text/utils\n",
            "copying build/lib/KD_Lib/KD/text/utils/bert.py -> build/bdist.linux-x86_64/egg/KD_Lib/KD/text/utils\n",
            "copying build/lib/KD_Lib/KD/text/utils/__init__.py -> build/bdist.linux-x86_64/egg/KD_Lib/KD/text/utils\n",
            "copying build/lib/KD_Lib/KD/text/__init__.py -> build/bdist.linux-x86_64/egg/KD_Lib/KD/text\n",
            "copying build/lib/KD_Lib/KD/__init__.py -> build/bdist.linux-x86_64/egg/KD_Lib/KD\n",
            "creating build/bdist.linux-x86_64/egg/KD_Lib/Pruning\n",
            "creating build/bdist.linux-x86_64/egg/KD_Lib/Pruning/lottery_tickets\n",
            "copying build/lib/KD_Lib/Pruning/lottery_tickets/lottery_tickets.py -> build/bdist.linux-x86_64/egg/KD_Lib/Pruning/lottery_tickets\n",
            "copying build/lib/KD_Lib/Pruning/lottery_tickets/__init__.py -> build/bdist.linux-x86_64/egg/KD_Lib/Pruning/lottery_tickets\n",
            "copying build/lib/KD_Lib/Pruning/__init__.py -> build/bdist.linux-x86_64/egg/KD_Lib/Pruning\n",
            "creating build/bdist.linux-x86_64/egg/KD_Lib/models\n",
            "copying build/lib/KD_Lib/models/nin.py -> build/bdist.linux-x86_64/egg/KD_Lib/models\n",
            "copying build/lib/KD_Lib/models/resnet.py -> build/bdist.linux-x86_64/egg/KD_Lib/models\n",
            "copying build/lib/KD_Lib/models/lenet.py -> build/bdist.linux-x86_64/egg/KD_Lib/models\n",
            "copying build/lib/KD_Lib/models/lstm.py -> build/bdist.linux-x86_64/egg/KD_Lib/models\n",
            "copying build/lib/KD_Lib/models/shallow.py -> build/bdist.linux-x86_64/egg/KD_Lib/models\n",
            "copying build/lib/KD_Lib/models/__init__.py -> build/bdist.linux-x86_64/egg/KD_Lib/models\n",
            "copying build/lib/KD_Lib/__init__.py -> build/bdist.linux-x86_64/egg/KD_Lib\n",
            "byte-compiling build/bdist.linux-x86_64/egg/KD_Lib/Quantization/qat/qat.py to qat.cpython-37.pyc\n",
            "byte-compiling build/bdist.linux-x86_64/egg/KD_Lib/Quantization/qat/__init__.py to __init__.cpython-37.pyc\n",
            "byte-compiling build/bdist.linux-x86_64/egg/KD_Lib/Quantization/dynamic/dynamic_quantization.py to dynamic_quantization.cpython-37.pyc\n",
            "byte-compiling build/bdist.linux-x86_64/egg/KD_Lib/Quantization/dynamic/__init__.py to __init__.cpython-37.pyc\n",
            "byte-compiling build/bdist.linux-x86_64/egg/KD_Lib/Quantization/common/base_class.py to base_class.cpython-37.pyc\n",
            "byte-compiling build/bdist.linux-x86_64/egg/KD_Lib/Quantization/common/__init__.py to __init__.cpython-37.pyc\n",
            "byte-compiling build/bdist.linux-x86_64/egg/KD_Lib/Quantization/static/static_quantization.py to static_quantization.cpython-37.pyc\n",
            "byte-compiling build/bdist.linux-x86_64/egg/KD_Lib/Quantization/static/__init__.py to __init__.cpython-37.pyc\n",
            "byte-compiling build/bdist.linux-x86_64/egg/KD_Lib/Quantization/__init__.py to __init__.cpython-37.pyc\n",
            "byte-compiling build/bdist.linux-x86_64/egg/KD_Lib/KD/vision/CSKD/cskd.py to cskd.cpython-37.pyc\n",
            "byte-compiling build/bdist.linux-x86_64/egg/KD_Lib/KD/vision/CSKD/sampler.py to sampler.cpython-37.pyc\n",
            "byte-compiling build/bdist.linux-x86_64/egg/KD_Lib/KD/vision/CSKD/__init__.py to __init__.cpython-37.pyc\n",
            "byte-compiling build/bdist.linux-x86_64/egg/KD_Lib/KD/vision/KA/LSR.py to LSR.cpython-37.pyc\n",
            "byte-compiling build/bdist.linux-x86_64/egg/KD_Lib/KD/vision/KA/PS.py to PS.cpython-37.pyc\n",
            "byte-compiling build/bdist.linux-x86_64/egg/KD_Lib/KD/vision/KA/__init__.py to __init__.cpython-37.pyc\n",
            "byte-compiling build/bdist.linux-x86_64/egg/KD_Lib/KD/vision/noisy/noisy_teacher.py to noisy_teacher.cpython-37.pyc\n",
            "byte-compiling build/bdist.linux-x86_64/egg/KD_Lib/KD/vision/noisy/soft_random.py to soft_random.cpython-37.pyc\n",
            "byte-compiling build/bdist.linux-x86_64/egg/KD_Lib/KD/vision/noisy/utils.py to utils.cpython-37.pyc\n",
            "byte-compiling build/bdist.linux-x86_64/egg/KD_Lib/KD/vision/noisy/messy_collab.py to messy_collab.cpython-37.pyc\n",
            "byte-compiling build/bdist.linux-x86_64/egg/KD_Lib/KD/vision/noisy/__init__.py to __init__.cpython-37.pyc\n",
            "byte-compiling build/bdist.linux-x86_64/egg/KD_Lib/KD/vision/teacher_free/self_training.py to self_training.cpython-37.pyc\n",
            "byte-compiling build/bdist.linux-x86_64/egg/KD_Lib/KD/vision/teacher_free/virtual_teacher.py to virtual_teacher.cpython-37.pyc\n",
            "byte-compiling build/bdist.linux-x86_64/egg/KD_Lib/KD/vision/teacher_free/__init__.py to __init__.cpython-37.pyc\n",
            "byte-compiling build/bdist.linux-x86_64/egg/KD_Lib/KD/vision/BANN/BANN.py to BANN.cpython-37.pyc\n",
            "byte-compiling build/bdist.linux-x86_64/egg/KD_Lib/KD/vision/BANN/__init__.py to __init__.cpython-37.pyc\n",
            "byte-compiling build/bdist.linux-x86_64/egg/KD_Lib/KD/vision/DML/dml.py to dml.cpython-37.pyc\n",
            "byte-compiling build/bdist.linux-x86_64/egg/KD_Lib/KD/vision/DML/__init__.py to __init__.cpython-37.pyc\n",
            "byte-compiling build/bdist.linux-x86_64/egg/KD_Lib/KD/vision/vanilla/vanilla_kd.py to vanilla_kd.cpython-37.pyc\n",
            "byte-compiling build/bdist.linux-x86_64/egg/KD_Lib/KD/vision/vanilla/__init__.py to __init__.cpython-37.pyc\n",
            "byte-compiling build/bdist.linux-x86_64/egg/KD_Lib/KD/vision/RCO/rco.py to rco.cpython-37.pyc\n",
            "byte-compiling build/bdist.linux-x86_64/egg/KD_Lib/KD/vision/RCO/__init__.py to __init__.cpython-37.pyc\n",
            "byte-compiling build/bdist.linux-x86_64/egg/KD_Lib/KD/vision/RKD/loss_metric.py to loss_metric.cpython-37.pyc\n",
            "byte-compiling build/bdist.linux-x86_64/egg/KD_Lib/KD/vision/RKD/__init__.py to __init__.cpython-37.pyc\n",
            "byte-compiling build/bdist.linux-x86_64/egg/KD_Lib/KD/vision/TAKD/takd.py to takd.cpython-37.pyc\n",
            "byte-compiling build/bdist.linux-x86_64/egg/KD_Lib/KD/vision/TAKD/__init__.py to __init__.cpython-37.pyc\n",
            "byte-compiling build/bdist.linux-x86_64/egg/KD_Lib/KD/vision/mean_teacher/mean_teacher.py to mean_teacher.cpython-37.pyc\n",
            "byte-compiling build/bdist.linux-x86_64/egg/KD_Lib/KD/vision/mean_teacher/__init__.py to __init__.cpython-37.pyc\n",
            "byte-compiling build/bdist.linux-x86_64/egg/KD_Lib/KD/vision/attention/loss_metric.py to loss_metric.cpython-37.pyc\n",
            "byte-compiling build/bdist.linux-x86_64/egg/KD_Lib/KD/vision/attention/attention.py to attention.cpython-37.pyc\n",
            "byte-compiling build/bdist.linux-x86_64/egg/KD_Lib/KD/vision/attention/__init__.py to __init__.cpython-37.pyc\n",
            "byte-compiling build/bdist.linux-x86_64/egg/KD_Lib/KD/vision/__init__.py to __init__.cpython-37.pyc\n",
            "byte-compiling build/bdist.linux-x86_64/egg/KD_Lib/KD/common/base_class.py to base_class.cpython-37.pyc\n",
            "byte-compiling build/bdist.linux-x86_64/egg/KD_Lib/KD/common/__init__.py to __init__.cpython-37.pyc\n",
            "byte-compiling build/bdist.linux-x86_64/egg/KD_Lib/KD/text/BERT2LSTM/utils.py to utils.cpython-37.pyc\n",
            "byte-compiling build/bdist.linux-x86_64/egg/KD_Lib/KD/text/BERT2LSTM/bert2lstm.py to bert2lstm.cpython-37.pyc\n",
            "byte-compiling build/bdist.linux-x86_64/egg/KD_Lib/KD/text/BERT2LSTM/__init__.py to __init__.cpython-37.pyc\n",
            "byte-compiling build/bdist.linux-x86_64/egg/KD_Lib/KD/text/utils/bert.py to bert.cpython-37.pyc\n",
            "byte-compiling build/bdist.linux-x86_64/egg/KD_Lib/KD/text/utils/__init__.py to __init__.cpython-37.pyc\n",
            "byte-compiling build/bdist.linux-x86_64/egg/KD_Lib/KD/text/__init__.py to __init__.cpython-37.pyc\n",
            "byte-compiling build/bdist.linux-x86_64/egg/KD_Lib/KD/__init__.py to __init__.cpython-37.pyc\n",
            "byte-compiling build/bdist.linux-x86_64/egg/KD_Lib/Pruning/lottery_tickets/lottery_tickets.py to lottery_tickets.cpython-37.pyc\n",
            "byte-compiling build/bdist.linux-x86_64/egg/KD_Lib/Pruning/lottery_tickets/__init__.py to __init__.cpython-37.pyc\n",
            "byte-compiling build/bdist.linux-x86_64/egg/KD_Lib/Pruning/__init__.py to __init__.cpython-37.pyc\n",
            "byte-compiling build/bdist.linux-x86_64/egg/KD_Lib/models/nin.py to nin.cpython-37.pyc\n",
            "byte-compiling build/bdist.linux-x86_64/egg/KD_Lib/models/resnet.py to resnet.cpython-37.pyc\n",
            "byte-compiling build/bdist.linux-x86_64/egg/KD_Lib/models/lenet.py to lenet.cpython-37.pyc\n",
            "byte-compiling build/bdist.linux-x86_64/egg/KD_Lib/models/lstm.py to lstm.cpython-37.pyc\n",
            "byte-compiling build/bdist.linux-x86_64/egg/KD_Lib/models/shallow.py to shallow.cpython-37.pyc\n",
            "byte-compiling build/bdist.linux-x86_64/egg/KD_Lib/models/__init__.py to __init__.cpython-37.pyc\n",
            "byte-compiling build/bdist.linux-x86_64/egg/KD_Lib/__init__.py to __init__.cpython-37.pyc\n",
            "creating build/bdist.linux-x86_64/egg/EGG-INFO\n",
            "copying KD_Lib.egg-info/PKG-INFO -> build/bdist.linux-x86_64/egg/EGG-INFO\n",
            "copying KD_Lib.egg-info/SOURCES.txt -> build/bdist.linux-x86_64/egg/EGG-INFO\n",
            "copying KD_Lib.egg-info/dependency_links.txt -> build/bdist.linux-x86_64/egg/EGG-INFO\n",
            "copying KD_Lib.egg-info/not-zip-safe -> build/bdist.linux-x86_64/egg/EGG-INFO\n",
            "copying KD_Lib.egg-info/requires.txt -> build/bdist.linux-x86_64/egg/EGG-INFO\n",
            "copying KD_Lib.egg-info/top_level.txt -> build/bdist.linux-x86_64/egg/EGG-INFO\n",
            "creating 'dist/KD_Lib-0.0.3-py3.7.egg' and adding 'build/bdist.linux-x86_64/egg' to it\n",
            "removing 'build/bdist.linux-x86_64/egg' (and everything under it)\n",
            "Processing KD_Lib-0.0.3-py3.7.egg\n",
            "removing '/usr/local/lib/python3.7/dist-packages/KD_Lib-0.0.3-py3.7.egg' (and everything under it)\n",
            "creating /usr/local/lib/python3.7/dist-packages/KD_Lib-0.0.3-py3.7.egg\n",
            "Extracting KD_Lib-0.0.3-py3.7.egg to /usr/local/lib/python3.7/dist-packages\n",
            "KD-Lib 0.0.3 is already the active version in easy-install.pth\n",
            "\n",
            "Installed /usr/local/lib/python3.7/dist-packages/KD_Lib-0.0.3-py3.7.egg\n",
            "Processing dependencies for KD-Lib==0.0.3\n",
            "Searching for numpy==1.19.5\n",
            "Best match: numpy 1.19.5\n",
            "Adding numpy 1.19.5 to easy-install.pth file\n",
            "Installing f2py script to /usr/local/bin\n",
            "Installing f2py3 script to /usr/local/bin\n",
            "Installing f2py3.7 script to /usr/local/bin\n",
            "\n",
            "Using /usr/local/lib/python3.7/dist-packages\n",
            "Searching for tqdm==4.60.0\n",
            "Best match: tqdm 4.60.0\n",
            "Processing tqdm-4.60.0-py3.7.egg\n",
            "tqdm 4.60.0 is already the active version in easy-install.pth\n",
            "Installing tqdm script to /usr/local/bin\n",
            "\n",
            "Using /usr/local/lib/python3.7/dist-packages/tqdm-4.60.0-py3.7.egg\n",
            "Searching for pandas==1.1.5\n",
            "Best match: pandas 1.1.5\n",
            "Adding pandas 1.1.5 to easy-install.pth file\n",
            "\n",
            "Using /usr/local/lib/python3.7/dist-packages\n",
            "Searching for transformers==4.6.0\n",
            "Best match: transformers 4.6.0\n",
            "Processing transformers-4.6.0-py3.7.egg\n",
            "transformers 4.6.0 is already the active version in easy-install.pth\n",
            "Installing transformers-cli script to /usr/local/bin\n",
            "\n",
            "Using /usr/local/lib/python3.7/dist-packages/transformers-4.6.0-py3.7.egg\n",
            "Searching for torchtext==0.9.1\n",
            "Best match: torchtext 0.9.1\n",
            "Adding torchtext 0.9.1 to easy-install.pth file\n",
            "\n",
            "Using /usr/local/lib/python3.7/dist-packages\n",
            "Searching for tensorboard==2.4.1\n",
            "Best match: tensorboard 2.4.1\n",
            "Adding tensorboard 2.4.1 to easy-install.pth file\n",
            "Installing tensorboard script to /usr/local/bin\n",
            "\n",
            "Using /usr/local/lib/python3.7/dist-packages\n",
            "Searching for torchvision==0.9.1+cu101\n",
            "Best match: torchvision 0.9.1+cu101\n",
            "Adding torchvision 0.9.1+cu101 to easy-install.pth file\n",
            "\n",
            "Using /usr/local/lib/python3.7/dist-packages\n",
            "Searching for torch==1.8.1+cu101\n",
            "Best match: torch 1.8.1+cu101\n",
            "Adding torch 1.8.1+cu101 to easy-install.pth file\n",
            "Installing convert-caffe2-to-onnx script to /usr/local/bin\n",
            "Installing convert-onnx-to-caffe2 script to /usr/local/bin\n",
            "\n",
            "Using /usr/local/lib/python3.7/dist-packages\n",
            "Searching for matplotlib==3.2.2\n",
            "Best match: matplotlib 3.2.2\n",
            "Adding matplotlib 3.2.2 to easy-install.pth file\n",
            "\n",
            "Using /usr/local/lib/python3.7/dist-packages\n",
            "Searching for pytz==2018.9\n",
            "Best match: pytz 2018.9\n",
            "Adding pytz 2018.9 to easy-install.pth file\n",
            "\n",
            "Using /usr/local/lib/python3.7/dist-packages\n",
            "Searching for python-dateutil==2.8.1\n",
            "Best match: python-dateutil 2.8.1\n",
            "Adding python-dateutil 2.8.1 to easy-install.pth file\n",
            "\n",
            "Using /usr/local/lib/python3.7/dist-packages\n",
            "Searching for tokenizers==0.10.2\n",
            "Best match: tokenizers 0.10.2\n",
            "Processing tokenizers-0.10.2-py3.7-linux-x86_64.egg\n",
            "tokenizers 0.10.2 is already the active version in easy-install.pth\n",
            "\n",
            "Using /usr/local/lib/python3.7/dist-packages/tokenizers-0.10.2-py3.7-linux-x86_64.egg\n",
            "Searching for sacremoses==0.0.45\n",
            "Best match: sacremoses 0.0.45\n",
            "Processing sacremoses-0.0.45-py3.7.egg\n",
            "sacremoses 0.0.45 is already the active version in easy-install.pth\n",
            "Installing sacremoses script to /usr/local/bin\n",
            "\n",
            "Using /usr/local/lib/python3.7/dist-packages/sacremoses-0.0.45-py3.7.egg\n",
            "Searching for requests==2.23.0\n",
            "Best match: requests 2.23.0\n",
            "Adding requests 2.23.0 to easy-install.pth file\n",
            "\n",
            "Using /usr/local/lib/python3.7/dist-packages\n",
            "Searching for regex==2019.12.20\n",
            "Best match: regex 2019.12.20\n",
            "Adding regex 2019.12.20 to easy-install.pth file\n",
            "\n",
            "Using /usr/local/lib/python3.7/dist-packages\n",
            "Searching for packaging==20.9\n",
            "Best match: packaging 20.9\n",
            "Adding packaging 20.9 to easy-install.pth file\n",
            "\n",
            "Using /usr/local/lib/python3.7/dist-packages\n",
            "Searching for importlib-metadata==4.0.1\n",
            "Best match: importlib-metadata 4.0.1\n",
            "Adding importlib-metadata 4.0.1 to easy-install.pth file\n",
            "\n",
            "Using /usr/local/lib/python3.7/dist-packages\n",
            "Searching for huggingface-hub==0.0.8\n",
            "Best match: huggingface-hub 0.0.8\n",
            "Processing huggingface_hub-0.0.8-py3.7.egg\n",
            "huggingface-hub 0.0.8 is already the active version in easy-install.pth\n",
            "Installing huggingface-cli script to /usr/local/bin\n",
            "\n",
            "Using /usr/local/lib/python3.7/dist-packages/huggingface_hub-0.0.8-py3.7.egg\n",
            "Searching for filelock==3.0.12\n",
            "Best match: filelock 3.0.12\n",
            "Adding filelock 3.0.12 to easy-install.pth file\n",
            "\n",
            "Using /usr/local/lib/python3.7/dist-packages\n",
            "Searching for google-auth-oauthlib==0.4.4\n",
            "Best match: google-auth-oauthlib 0.4.4\n",
            "Adding google-auth-oauthlib 0.4.4 to easy-install.pth file\n",
            "Installing google-oauthlib-tool script to /usr/local/bin\n",
            "\n",
            "Using /usr/local/lib/python3.7/dist-packages\n",
            "Searching for grpcio==1.32.0\n",
            "Best match: grpcio 1.32.0\n",
            "Adding grpcio 1.32.0 to easy-install.pth file\n",
            "\n",
            "Using /usr/local/lib/python3.7/dist-packages\n",
            "Searching for setuptools==56.1.0\n",
            "Best match: setuptools 56.1.0\n",
            "Adding setuptools 56.1.0 to easy-install.pth file\n",
            "\n",
            "Using /usr/local/lib/python3.7/dist-packages\n",
            "Searching for absl-py==0.12.0\n",
            "Best match: absl-py 0.12.0\n",
            "Adding absl-py 0.12.0 to easy-install.pth file\n",
            "\n",
            "Using /usr/local/lib/python3.7/dist-packages\n",
            "Searching for Markdown==3.3.4\n",
            "Best match: Markdown 3.3.4\n",
            "Adding Markdown 3.3.4 to easy-install.pth file\n",
            "Installing markdown_py script to /usr/local/bin\n",
            "\n",
            "Using /usr/local/lib/python3.7/dist-packages\n",
            "Searching for six==1.15.0\n",
            "Best match: six 1.15.0\n",
            "Adding six 1.15.0 to easy-install.pth file\n",
            "\n",
            "Using /usr/local/lib/python3.7/dist-packages\n",
            "Searching for protobuf==3.12.4\n",
            "Best match: protobuf 3.12.4\n",
            "Adding protobuf 3.12.4 to easy-install.pth file\n",
            "\n",
            "Using /usr/local/lib/python3.7/dist-packages\n",
            "Searching for wheel==0.36.2\n",
            "Best match: wheel 0.36.2\n",
            "Adding wheel 0.36.2 to easy-install.pth file\n",
            "Installing wheel script to /usr/local/bin\n",
            "\n",
            "Using /usr/local/lib/python3.7/dist-packages\n",
            "Searching for google-auth==1.30.0\n",
            "Best match: google-auth 1.30.0\n",
            "Adding google-auth 1.30.0 to easy-install.pth file\n",
            "\n",
            "Using /usr/local/lib/python3.7/dist-packages\n",
            "Searching for tensorboard-plugin-wit==1.8.0\n",
            "Best match: tensorboard-plugin-wit 1.8.0\n",
            "Adding tensorboard-plugin-wit 1.8.0 to easy-install.pth file\n",
            "\n",
            "Using /usr/local/lib/python3.7/dist-packages\n",
            "Searching for Werkzeug==1.0.1\n",
            "Best match: Werkzeug 1.0.1\n",
            "Adding Werkzeug 1.0.1 to easy-install.pth file\n",
            "\n",
            "Using /usr/local/lib/python3.7/dist-packages\n",
            "Searching for Pillow==7.1.2\n",
            "Best match: Pillow 7.1.2\n",
            "Adding Pillow 7.1.2 to easy-install.pth file\n",
            "\n",
            "Using /usr/local/lib/python3.7/dist-packages\n",
            "Searching for typing-extensions==3.7.4.3\n",
            "Best match: typing-extensions 3.7.4.3\n",
            "Adding typing-extensions 3.7.4.3 to easy-install.pth file\n",
            "\n",
            "Using /usr/local/lib/python3.7/dist-packages\n",
            "Searching for pyparsing==2.4.7\n",
            "Best match: pyparsing 2.4.7\n",
            "Adding pyparsing 2.4.7 to easy-install.pth file\n",
            "\n",
            "Using /usr/local/lib/python3.7/dist-packages\n",
            "Searching for cycler==0.10.0\n",
            "Best match: cycler 0.10.0\n",
            "Adding cycler 0.10.0 to easy-install.pth file\n",
            "\n",
            "Using /usr/local/lib/python3.7/dist-packages\n",
            "Searching for kiwisolver==1.3.1\n",
            "Best match: kiwisolver 1.3.1\n",
            "Adding kiwisolver 1.3.1 to easy-install.pth file\n",
            "\n",
            "Using /usr/local/lib/python3.7/dist-packages\n",
            "Searching for joblib==1.0.1\n",
            "Best match: joblib 1.0.1\n",
            "Adding joblib 1.0.1 to easy-install.pth file\n",
            "\n",
            "Using /usr/local/lib/python3.7/dist-packages\n",
            "Searching for click==7.1.2\n",
            "Best match: click 7.1.2\n",
            "Adding click 7.1.2 to easy-install.pth file\n",
            "\n",
            "Using /usr/local/lib/python3.7/dist-packages\n",
            "Searching for certifi==2020.12.5\n",
            "Best match: certifi 2020.12.5\n",
            "Adding certifi 2020.12.5 to easy-install.pth file\n",
            "\n",
            "Using /usr/local/lib/python3.7/dist-packages\n",
            "Searching for chardet==3.0.4\n",
            "Best match: chardet 3.0.4\n",
            "Adding chardet 3.0.4 to easy-install.pth file\n",
            "Installing chardetect script to /usr/local/bin\n",
            "\n",
            "Using /usr/local/lib/python3.7/dist-packages\n",
            "Searching for urllib3==1.24.3\n",
            "Best match: urllib3 1.24.3\n",
            "Adding urllib3 1.24.3 to easy-install.pth file\n",
            "\n",
            "Using /usr/local/lib/python3.7/dist-packages\n",
            "Searching for idna==2.10\n",
            "Best match: idna 2.10\n",
            "Adding idna 2.10 to easy-install.pth file\n",
            "\n",
            "Using /usr/local/lib/python3.7/dist-packages\n",
            "Searching for zipp==3.4.1\n",
            "Best match: zipp 3.4.1\n",
            "Adding zipp 3.4.1 to easy-install.pth file\n",
            "\n",
            "Using /usr/local/lib/python3.7/dist-packages\n",
            "Searching for requests-oauthlib==1.3.0\n",
            "Best match: requests-oauthlib 1.3.0\n",
            "Adding requests-oauthlib 1.3.0 to easy-install.pth file\n",
            "\n",
            "Using /usr/local/lib/python3.7/dist-packages\n",
            "Searching for cachetools==4.2.2\n",
            "Best match: cachetools 4.2.2\n",
            "Adding cachetools 4.2.2 to easy-install.pth file\n",
            "\n",
            "Using /usr/local/lib/python3.7/dist-packages\n",
            "Searching for pyasn1-modules==0.2.8\n",
            "Best match: pyasn1-modules 0.2.8\n",
            "Adding pyasn1-modules 0.2.8 to easy-install.pth file\n",
            "\n",
            "Using /usr/local/lib/python3.7/dist-packages\n",
            "Searching for rsa==4.7.2\n",
            "Best match: rsa 4.7.2\n",
            "Adding rsa 4.7.2 to easy-install.pth file\n",
            "Installing pyrsa-decrypt script to /usr/local/bin\n",
            "Installing pyrsa-encrypt script to /usr/local/bin\n",
            "Installing pyrsa-keygen script to /usr/local/bin\n",
            "Installing pyrsa-priv2pub script to /usr/local/bin\n",
            "Installing pyrsa-sign script to /usr/local/bin\n",
            "Installing pyrsa-verify script to /usr/local/bin\n",
            "\n",
            "Using /usr/local/lib/python3.7/dist-packages\n",
            "Searching for oauthlib==3.1.0\n",
            "Best match: oauthlib 3.1.0\n",
            "Adding oauthlib 3.1.0 to easy-install.pth file\n",
            "\n",
            "Using /usr/local/lib/python3.7/dist-packages\n",
            "Searching for pyasn1==0.4.8\n",
            "Best match: pyasn1 0.4.8\n",
            "Adding pyasn1 0.4.8 to easy-install.pth file\n",
            "\n",
            "Using /usr/local/lib/python3.7/dist-packages\n",
            "Finished processing dependencies for KD-Lib==0.0.3\n"
          ],
          "name": "stdout"
        }
      ]
    },
    {
      "cell_type": "code",
      "metadata": {
        "colab": {
          "base_uri": "https://localhost:8080/"
        },
        "id": "4fbTMAnpXhlk",
        "outputId": "7db91d4f-a499-4d48-aed2-2b7b486596d0"
      },
      "source": [
        "%cd .."
      ],
      "id": "4fbTMAnpXhlk",
      "execution_count": null,
      "outputs": [
        {
          "output_type": "stream",
          "text": [
            "/content\n"
          ],
          "name": "stdout"
        }
      ]
    },
    {
      "cell_type": "markdown",
      "metadata": {
        "id": "Xpcs-_XC3MKe"
      },
      "source": [
        "**NOTE:** You now need to restart the runtime and re-execute the cells above, then the following cell should work:"
      ],
      "id": "Xpcs-_XC3MKe"
    },
    {
      "cell_type": "code",
      "metadata": {
        "id": "rIphQgt74vXf"
      },
      "source": [
        "# this should now work\n",
        "from KD_Lib.KD import VanillaKD"
      ],
      "id": "rIphQgt74vXf",
      "execution_count": null,
      "outputs": []
    },
    {
      "cell_type": "code",
      "metadata": {
        "colab": {
          "base_uri": "https://localhost:8080/"
        },
        "id": "K8Wx7hM0WB2E",
        "outputId": "598dd6ec-1f91-4c90-aa05-291020d83f98"
      },
      "source": [
        "from google.colab import drive\n",
        "drive.mount('/content/drive')"
      ],
      "id": "K8Wx7hM0WB2E",
      "execution_count": null,
      "outputs": [
        {
          "output_type": "stream",
          "text": [
            "Drive already mounted at /content/drive; to attempt to forcibly remount, call drive.mount(\"/content/drive\", force_remount=True).\n"
          ],
          "name": "stdout"
        }
      ]
    },
    {
      "cell_type": "code",
      "metadata": {
        "id": "wpjvznzt3d_B"
      },
      "source": [
        "import json\n",
        "from pprint import pprint\n",
        "\n",
        "import cifar100_helper  # local file, needs to be manually uploaded to Colab\n",
        "\n",
        "import numpy as np\n",
        "import pandas as pd\n",
        "import matplotlib.pyplot as plt\n",
        "\n",
        "import torch\n",
        "import torchvision\n",
        "\n",
        "from sklearn.metrics import (classification_report, accuracy_score, confusion_matrix,\n",
        "                             ConfusionMatrixDisplay)"
      ],
      "id": "wpjvznzt3d_B",
      "execution_count": null,
      "outputs": []
    },
    {
      "cell_type": "code",
      "metadata": {
        "colab": {
          "base_uri": "https://localhost:8080/"
        },
        "id": "pDf5Wyy73d_B",
        "outputId": "f5d37138-9d5a-462a-fb7f-6bd799daf147"
      },
      "source": [
        "# Use this to view all the available models\n",
        "# pprint(torch.hub.list(\"chenyaofo/pytorch-cifar-models\", force_reload=True))\n",
        "student_model = torch.hub.load(\"chenyaofo/pytorch-cifar-models\", \"cifar100_resnet20\", pretrained=True)\n",
        "teacher_model = torch.hub.load(\"chenyaofo/pytorch-cifar-models\", \"cifar100_resnet56\", pretrained=True)"
      ],
      "id": "pDf5Wyy73d_B",
      "execution_count": null,
      "outputs": [
        {
          "output_type": "stream",
          "text": [
            "Using cache found in /root/.cache/torch/hub/chenyaofo_pytorch-cifar-models_master\n",
            "Using cache found in /root/.cache/torch/hub/chenyaofo_pytorch-cifar-models_master\n"
          ],
          "name": "stderr"
        }
      ]
    },
    {
      "cell_type": "code",
      "metadata": {
        "colab": {
          "base_uri": "https://localhost:8080/",
          "height": 138,
          "referenced_widgets": [
            "9bb0f2806f3848f9aa1cb729c90ba4cf",
            "f47c7d439d40479898fbbc158b0a3e7e",
            "855e8db14f524743b12a26390d23980d",
            "9a0e96336ffb44379c0c7becd267c0a6",
            "53bc17923dad43cdad8af52692a3b295",
            "1959407769c34f70b0dd455aecdf48d5",
            "13e19ecf49ec4c37926c05fec84840d7",
            "9b3a8aff804d47c2910e434c09f142f2"
          ]
        },
        "id": "f-UrJmok3d_C",
        "outputId": "4b73ce8e-a658-40c1-ed28-1e18d0842ea4"
      },
      "source": [
        "# we need 1 worker each for train/test since colab only has 2 processers\n",
        "train_loader, test_loader = cifar100_helper.cifar100(\"./\", 32, None, None, batch_size=128, num_workers=1, is_vit=True)"
      ],
      "id": "f-UrJmok3d_C",
      "execution_count": null,
      "outputs": [
        {
          "output_type": "stream",
          "text": [
            "Downloading https://www.cs.toronto.edu/~kriz/cifar-100-python.tar.gz to ./cifar-100-python.tar.gz\n"
          ],
          "name": "stdout"
        },
        {
          "output_type": "display_data",
          "data": {
            "application/vnd.jupyter.widget-view+json": {
              "model_id": "9bb0f2806f3848f9aa1cb729c90ba4cf",
              "version_major": 2,
              "version_minor": 0
            },
            "text/plain": [
              "HBox(children=(FloatProgress(value=0.0, max=169001437.0), HTML(value='')))"
            ]
          },
          "metadata": {
            "tags": []
          }
        },
        {
          "output_type": "stream",
          "text": [
            "\n",
            "Extracting ./cifar-100-python.tar.gz to ./\n",
            "Files already downloaded and verified\n"
          ],
          "name": "stdout"
        }
      ]
    },
    {
      "cell_type": "code",
      "metadata": {
        "id": "ZKi3Ll_v3d_C"
      },
      "source": [
        "idx_to_class = {v:k for k, v in train_loader.dataset.class_to_idx.items()}\n",
        "idx_to_class_vec = np.array(list(idx_to_class.values()))"
      ],
      "id": "ZKi3Ll_v3d_C",
      "execution_count": null,
      "outputs": []
    },
    {
      "cell_type": "code",
      "metadata": {
        "id": "3RqX3SL43d_D"
      },
      "source": [
        "# functions to show an image\n",
        "def imshow(img, to_numpy=True):\n",
        "    img = img / 2 + 0.5     # unnormalize\n",
        "    if to_numpy:\n",
        "        npimg = img.numpy()\n",
        "    else:\n",
        "        npimg = img\n",
        "    plt.imshow(np.transpose(npimg, (1, 2, 0)))\n",
        "    plt.show()\n",
        "    return img\n",
        "\n",
        "# get some random training images\n",
        "dataiter = iter(train_loader)\n",
        "images, labels = dataiter.next()"
      ],
      "id": "3RqX3SL43d_D",
      "execution_count": null,
      "outputs": []
    },
    {
      "cell_type": "code",
      "metadata": {
        "id": "UcITpf2Q3d_E"
      },
      "source": [
        "def print_acc(model, loader):\n",
        "    correct = 0\n",
        "    total = 0\n",
        "    # since we're not training, we don't need to calculate the gradients for our outputs\n",
        "    with torch.no_grad():\n",
        "        for data in loader:\n",
        "            images, labels = data\n",
        "            # calculate outputs by running images through the network\n",
        "            outputs = model(images)\n",
        "            # the class with the highest energy is what we choose as prediction\n",
        "            _, predicted = torch.max(outputs.data, 1)\n",
        "            total += labels.size(0)\n",
        "            correct += (predicted == labels).sum().item()\n",
        "            \n",
        "    print(f'Accuracy of the network on the {len(loader.dataset)} test images: %d %%' % (100 * correct / total))"
      ],
      "id": "UcITpf2Q3d_E",
      "execution_count": null,
      "outputs": []
    },
    {
      "cell_type": "code",
      "metadata": {
        "colab": {
          "base_uri": "https://localhost:8080/"
        },
        "id": "kSU7tny53d_E",
        "outputId": "189a70d8-24a9-4d30-d209-c5a0fb6f5191"
      },
      "source": [
        "# results for our model\n",
        "print(\"teacher model \", end=\"\")\n",
        "print_acc(teacher_model, test_loader)\n",
        "print(\"student model \", end=\"\")\n",
        "print_acc(student_model, test_loader)"
      ],
      "id": "kSU7tny53d_E",
      "execution_count": null,
      "outputs": [
        {
          "output_type": "stream",
          "text": [
            "teacher model Accuracy of the network on the 10000 test images: 65 %\n",
            "student model Accuracy of the network on the 10000 test images: 61 %\n"
          ],
          "name": "stdout"
        }
      ]
    },
    {
      "cell_type": "markdown",
      "metadata": {
        "id": "v38Tr_FM3d_F"
      },
      "source": [
        "## Knowledge Distilation"
      ],
      "id": "v38Tr_FM3d_F"
    },
    {
      "cell_type": "code",
      "metadata": {
        "id": "nLja819f3d_G"
      },
      "source": [
        "import torch.optim as optim\n",
        "\n",
        "# These values are the same from the original training of our teacher model\n",
        "# https://github.com/chenyaofo/image-classification-codebase/blob/master/conf/cifar10.conf\n",
        "# Note that although the file is for CIFAR-10, the CIFAR-100 file inherits theses parameters.\n",
        "optim_dict = dict(\n",
        "    lr=0.01,\n",
        "    momentum=0.9,\n",
        "    dampening=0,\n",
        "    weight_decay=5e-4,\n",
        "    nesterov=True,\n",
        ")\n",
        "\n",
        "\n",
        "student_optimizer = optim.SGD(student_model.parameters(), **optim_dict)\n",
        "# we don't use this optimizer since we end up training just the student,\n",
        "# but we must pass in a valid value\n",
        "teacher_optimizer = optim.SGD(student_model.parameters(), **optim_dict)"
      ],
      "id": "nLja819f3d_G",
      "execution_count": null,
      "outputs": []
    },
    {
      "cell_type": "code",
      "metadata": {
        "id": "QEqeEfKSWh-u"
      },
      "source": [
        "BASE_DIR = \"/content/drive/MyDrive/Viz4ML/\""
      ],
      "id": "QEqeEfKSWh-u",
      "execution_count": null,
      "outputs": []
    },
    {
      "cell_type": "code",
      "metadata": {
        "colab": {
          "base_uri": "https://localhost:8080/"
        },
        "id": "MawLz1Qb3d_H",
        "outputId": "23b2711e-68cd-4b6d-ab0f-d15ebbd82f56"
      },
      "source": [
        "%%time\n",
        "from KD_Lib.KD import VanillaKD\n",
        "# Now, this is where KD_Lib comes into the picture\n",
        "distiller = VanillaKD(\n",
        "    teacher_model, student_model, train_loader, test_loader, teacher_optimizer, student_optimizer,\n",
        "    temp=10.0, distil_weight=0.5, device=\"cuda\", log=True, logdir=BASE_DIR + \"logs2/\",\n",
        ")\n",
        "distiller.evaluate(teacher=False)                                       # Evaluate the student network\n",
        "distiller.get_parameters()                  "
      ],
      "id": "MawLz1Qb3d_H",
      "execution_count": null,
      "outputs": [
        {
          "output_type": "stream",
          "text": [
            "--------------------------------------------------------------------------------\n",
            "Accuracy: 0.624\n",
            "--------------------------------------------------------------------------------\n",
            "Total parameters for the teacher network are: 861620\n",
            "Total parameters for the student network are: 278324\n",
            "CPU times: user 1.05 s, sys: 61 ms, total: 1.11 s\n",
            "Wall time: 2.41 s\n"
          ],
          "name": "stdout"
        }
      ]
    },
    {
      "cell_type": "code",
      "metadata": {
        "colab": {
          "base_uri": "https://localhost:8080/",
          "height": 1000
        },
        "id": "YKSARd7wWwhg",
        "outputId": "b2918619-7df6-43fa-e985-bca88030fa24"
      },
      "source": [
        "distiller.train_student(epochs=50, plot_losses=True, save_model=True)    # Train the student network\n",
        "distiller.evaluate(teacher=False)                                       # Evaluate the student network\n",
        "torch.save(distiller.student_model.state_dict(), BASE_DIR + \"student_model_50_epoch.pt\")"
      ],
      "id": "YKSARd7wWwhg",
      "execution_count": 34,
      "outputs": [
        {
          "output_type": "stream",
          "text": [
            "Training Student...\n",
            "Epoch: 1, Loss: 379.5515025854111, Accuracy: 0.49812\n",
            "Epoch: 2, Loss: 375.2631215453148, Accuracy: 0.50078\n",
            "Epoch: 3, Loss: 373.1710253357887, Accuracy: 0.50396\n",
            "Epoch: 4, Loss: 366.4204389452934, Accuracy: 0.51182\n",
            "Epoch: 5, Loss: 364.2520188689232, Accuracy: 0.51496\n",
            "Epoch: 6, Loss: 360.82195138931274, Accuracy: 0.51592\n",
            "Epoch: 7, Loss: 361.0583602786064, Accuracy: 0.51766\n",
            "Epoch: 8, Loss: 357.27905863523483, Accuracy: 0.52084\n",
            "Epoch: 9, Loss: 355.2666702270508, Accuracy: 0.52524\n",
            "Epoch: 10, Loss: 356.37198066711426, Accuracy: 0.52178\n",
            "Epoch: 11, Loss: 353.6566960811615, Accuracy: 0.52862\n",
            "Epoch: 12, Loss: 351.7804194688797, Accuracy: 0.5271\n",
            "Epoch: 13, Loss: 352.46156537532806, Accuracy: 0.52828\n",
            "Epoch: 14, Loss: 353.37105745077133, Accuracy: 0.52636\n",
            "Epoch: 15, Loss: 350.1725154519081, Accuracy: 0.5312\n",
            "Epoch: 16, Loss: 351.61070615053177, Accuracy: 0.53042\n",
            "Epoch: 17, Loss: 349.5306414961815, Accuracy: 0.53276\n",
            "Epoch: 18, Loss: 351.96029740571976, Accuracy: 0.52796\n",
            "Epoch: 19, Loss: 348.96699756383896, Accuracy: 0.53184\n",
            "Epoch: 20, Loss: 348.3437599539757, Accuracy: 0.53124\n",
            "Epoch: 21, Loss: 348.955693423748, Accuracy: 0.53338\n",
            "Epoch: 22, Loss: 349.0478100180626, Accuracy: 0.53318\n",
            "Epoch: 23, Loss: 349.0682340860367, Accuracy: 0.5314\n",
            "Epoch: 24, Loss: 350.00834369659424, Accuracy: 0.53438\n",
            "Epoch: 25, Loss: 348.0833568572998, Accuracy: 0.53276\n",
            "Epoch: 26, Loss: 347.9119510650635, Accuracy: 0.53568\n",
            "Epoch: 27, Loss: 348.4863470196724, Accuracy: 0.53294\n",
            "Epoch: 28, Loss: 347.83565348386765, Accuracy: 0.53474\n",
            "Epoch: 29, Loss: 349.3160768151283, Accuracy: 0.53098\n",
            "Epoch: 30, Loss: 350.7867583036423, Accuracy: 0.52904\n",
            "Epoch: 31, Loss: 347.9650752544403, Accuracy: 0.53292\n",
            "Epoch: 32, Loss: 345.45090222358704, Accuracy: 0.53764\n",
            "Epoch: 33, Loss: 348.4507281780243, Accuracy: 0.53306\n",
            "Epoch: 34, Loss: 349.51379352808, Accuracy: 0.5334\n",
            "Epoch: 35, Loss: 345.38082665205, Accuracy: 0.53522\n",
            "Epoch: 36, Loss: 349.3684615492821, Accuracy: 0.5317\n",
            "Epoch: 37, Loss: 348.60463976860046, Accuracy: 0.53248\n",
            "Epoch: 38, Loss: 346.2239843606949, Accuracy: 0.53416\n",
            "Epoch: 39, Loss: 348.73956513404846, Accuracy: 0.5339\n",
            "Epoch: 40, Loss: 348.423222720623, Accuracy: 0.53138\n",
            "Epoch: 41, Loss: 349.2174828052521, Accuracy: 0.53296\n",
            "Epoch: 42, Loss: 349.13537138700485, Accuracy: 0.5302\n",
            "Epoch: 43, Loss: 347.57155883312225, Accuracy: 0.5339\n",
            "Epoch: 44, Loss: 345.116246342659, Accuracy: 0.53656\n",
            "Epoch: 45, Loss: 345.318285882473, Accuracy: 0.5355\n",
            "Epoch: 46, Loss: 346.57756704092026, Accuracy: 0.53416\n",
            "Epoch: 47, Loss: 345.8894147872925, Accuracy: 0.53704\n",
            "Epoch: 48, Loss: 344.67053896188736, Accuracy: 0.53528\n",
            "Epoch: 49, Loss: 347.21688985824585, Accuracy: 0.5345\n",
            "Epoch: 50, Loss: 348.2477031350136, Accuracy: 0.5338\n",
            "--------------------------------------------------------------------------------\n",
            "Accuracy: 0.5873\n"
          ],
          "name": "stdout"
        },
        {
          "output_type": "display_data",
          "data": {
            "image/png": "[encoded data removed]",
            "text/plain": [
              "<Figure size 432x288 with 1 Axes>"
            ]
          },
          "metadata": {
            "tags": [],
            "needs_background": "light"
          }
        }
      ]
    },
    {
      "cell_type": "code",
      "metadata": {
        "id": "Z2fubXtSYJoY"
      },
      "source": [
        "# optional: train it for another 50 epochs, totataling 100.\n",
        "# distiller.train_student(epochs=50, plot_losses=True, save_model=True)    # Train the student network\n",
        "# torch.save(distiller.student_model.state_dict(), BASE_DIR + \"student_model_100_epoch.pt\")"
      ],
      "id": "Z2fubXtSYJoY",
      "execution_count": 35,
      "outputs": []
    },
    {
      "cell_type": "code",
      "metadata": {
        "id": "cAKaJxxS3d_H"
      },
      "source": [
        "# get some random test images\n",
        "dataiter = iter(test_loader)\n",
        "images, labels = dataiter.next()\n",
        "images = images.cuda()"
      ],
      "id": "cAKaJxxS3d_H",
      "execution_count": 52,
      "outputs": []
    },
    {
      "cell_type": "markdown",
      "metadata": {
        "id": "nRuUJuRR3d_I"
      },
      "source": [
        "## Log results/metrics for this single batch "
      ],
      "id": "nRuUJuRR3d_I"
    },
    {
      "cell_type": "markdown",
      "metadata": {
        "id": "Kn_Lbf3u3d_I"
      },
      "source": [
        "Write metrics"
      ],
      "id": "Kn_Lbf3u3d_I"
    },
    {
      "cell_type": "code",
      "metadata": {
        "id": "Mx-0C5G_3d_J"
      },
      "source": [
        "# from https://github.com/ryanchankh/cifar100coarse\n",
        "def sparse2coarse(targets):\n",
        "    \"\"\"Convert Pytorch CIFAR100 sparse targets to coarse targets.\n",
        "    Usage:\n",
        "        trainset = torchvision.datasets.CIFAR100(path)\n",
        "        trainset.targets = sparse2coarse(trainset.targets)\n",
        "    \"\"\"\n",
        "    coarse_labels = np.array([ 4,  1, 14,  8,  0,  6,  7,  7, 18,  3,  \n",
        "                               3, 14,  9, 18,  7, 11,  3,  9,  7, 11,\n",
        "                               6, 11,  5, 10,  7,  6, 13, 15,  3, 15,  \n",
        "                               0, 11,  1, 10, 12, 14, 16,  9, 11,  5, \n",
        "                               5, 19,  8,  8, 15, 13, 14, 17, 18, 10, \n",
        "                               16, 4, 17,  4,  2,  0, 17,  4, 18, 17, \n",
        "                               10, 3,  2, 12, 12, 16, 12,  1,  9, 19,  \n",
        "                               2, 10,  0,  1, 16, 12,  9, 13, 15, 13, \n",
        "                              16, 19,  2,  4,  6, 19,  5,  5,  8, 19, \n",
        "                              18,  1,  2, 15,  6,  0, 17,  8, 14, 13])\n",
        "    return coarse_labels[targets]"
      ],
      "id": "Mx-0C5G_3d_J",
      "execution_count": 53,
      "outputs": []
    },
    {
      "cell_type": "code",
      "metadata": {
        "id": "pztehLmj3d_J"
      },
      "source": [
        "idx_to_class20 = {i:x for i,x in enumerate([\n",
        "    'aquatic mammals', 'fish', 'flowers', 'food containers', 'fruit and vegetables', 'household electrical devices', 'household furniture', 'insects', \n",
        "     'large carnivores', 'large man-made outdoor things', 'large natural outdoor scenes', 'large omnivores and herbivores', 'medium-sized mammals', 'non-insect invertebrates', \n",
        "    'people', 'reptiles', 'small mammals', 'trees', 'vehicles 1', 'vehicles 2'\n",
        "])}"
      ],
      "id": "pztehLmj3d_J",
      "execution_count": 54,
      "outputs": []
    },
    {
      "cell_type": "code",
      "metadata": {
        "id": "NfY9-a_BQd8s"
      },
      "source": [
        "def save_results(labels, predicted, name):\n",
        "    results = classification_report(labels, predicted, output_dict=True)\n",
        "    print(results)\n",
        "    results = {idx_to_class[int(k)]: v for k,v in results.items() if k.isnumeric()}\n",
        "\n",
        "    with open(BASE_DIR + f'{name}_metrics.json', 'w') as fp:\n",
        "        json.dump(results, fp, sort_keys=True, indent=4)\n",
        "        \n",
        "    with open(BASE_DIR + f'{name}_accuracy.json', 'w') as fp:\n",
        "        json.dump({\"accuracy\": accuracy_score(labels, predicted)}, fp)\n",
        "\n",
        "    cm = pd.DataFrame(confusion_matrix(labels, predicted), columns=idx_to_class.values(), index=idx_to_class.values())\n",
        "    cm.to_json(BASE_DIR + f\"{name}_confusion_matrix_100.json\", indent=True)\n",
        "\n",
        "    # Now for the 20 classes version correlation:\n",
        "    cm = pd.DataFrame(confusion_matrix(sparse2coarse(labels), sparse2coarse(predicted)), \n",
        "                        columns=idx_to_class20.values(), index=idx_to_class20.values())\n",
        "    cm.to_json(BASE_DIR + f\"{name}_confusion_matrix_20.json\", indent=True)"
      ],
      "id": "NfY9-a_BQd8s",
      "execution_count": 81,
      "outputs": []
    },
    {
      "cell_type": "code",
      "metadata": {
        "id": "40EyHsr93d_I",
        "colab": {
          "base_uri": "https://localhost:8080/"
        },
        "outputId": "50464084-2ffc-42ab-89e3-aa045b2c9895"
      },
      "source": [
        "# teacher\n",
        "predicted, labels = [], []\n",
        "for idx, (batch_x, batch_y) in enumerate(test_loader):\n",
        "    outputs = teacher_model(batch_x.cuda())\n",
        "    _, preds = torch.max(outputs, 1)\n",
        "    predicted += preds.cpu().flatten().tolist()\n",
        "    labels += batch_y.flatten().tolist()"
      ],
      "id": "40EyHsr93d_I",
      "execution_count": 75,
      "outputs": [
        {
          "output_type": "stream",
          "text": [
            "/usr/local/lib/python3.7/dist-packages/torch/nn/modules/module.py:795: UserWarning: Using a non-full backward hook when the forward contains multiple autograd Nodes is deprecated and will be removed in future versions. This hook will be missing some grad_input. Please use register_full_backward_hook to get the documented behavior.\n",
            "  warnings.warn(\"Using a non-full backward hook when the forward contains multiple autograd Nodes \"\n"
          ],
          "name": "stderr"
        }
      ]
    },
    {
      "cell_type": "code",
      "metadata": {
        "id": "b3rcN3SdRCgS"
      },
      "source": [
        "save_results(labels, predicted, \"teacher\")"
      ],
      "id": "b3rcN3SdRCgS",
      "execution_count": 76,
      "outputs": []
    },
    {
      "cell_type": "code",
      "metadata": {
        "colab": {
          "base_uri": "https://localhost:8080/"
        },
        "id": "lh-4DCUMRZ7u",
        "outputId": "a0036333-f64c-4b3b-d76d-b602ebd1625f"
      },
      "source": [
        "# student\n",
        "predicted, labels = [], []\n",
        "for idx, (batch_x, batch_y) in enumerate(test_loader):\n",
        "    outputs = distiller.student_model(batch_x.cuda())\n",
        "    _, preds = torch.max(outputs, 1)\n",
        "    predicted += preds.cpu().flatten().tolist()\n",
        "    labels += batch_y.flatten().tolist()\n",
        "        \n",
        "save_results(labels, predicted, \"student\")"
      ],
      "id": "lh-4DCUMRZ7u",
      "execution_count": 82,
      "outputs": [
        {
          "output_type": "stream",
          "text": [
            "{'0': {'precision': 0.9024390243902439, 'recall': 0.74, 'f1-score': 0.8131868131868132, 'support': 100}, '1': {'precision': 0.8452380952380952, 'recall': 0.71, 'f1-score': 0.7717391304347825, 'support': 100}, '2': {'precision': 0.6666666666666666, 'recall': 0.54, 'f1-score': 0.5966850828729282, 'support': 100}, '3': {'precision': 0.6551724137931034, 'recall': 0.19, 'f1-score': 0.29457364341085274, 'support': 100}, '4': {'precision': 0.3865546218487395, 'recall': 0.46, 'f1-score': 0.4200913242009133, 'support': 100}, '5': {'precision': 0.6666666666666666, 'recall': 0.62, 'f1-score': 0.6424870466321244, 'support': 100}, '6': {'precision': 0.7368421052631579, 'recall': 0.56, 'f1-score': 0.6363636363636364, 'support': 100}, '7': {'precision': 0.7183098591549296, 'recall': 0.51, 'f1-score': 0.5964912280701754, 'support': 100}, '8': {'precision': 0.8414634146341463, 'recall': 0.69, 'f1-score': 0.7582417582417583, 'support': 100}, '9': {'precision': 0.8461538461538461, 'recall': 0.66, 'f1-score': 0.7415730337078651, 'support': 100}, '10': {'precision': 0.494949494949495, 'recall': 0.49, 'f1-score': 0.4924623115577889, 'support': 100}, '11': {'precision': 0.3458646616541353, 'recall': 0.46, 'f1-score': 0.3948497854077253, 'support': 100}, '12': {'precision': 0.4878048780487805, 'recall': 0.8, 'f1-score': 0.6060606060606061, 'support': 100}, '13': {'precision': 0.5760869565217391, 'recall': 0.53, 'f1-score': 0.5520833333333334, 'support': 100}, '14': {'precision': 0.4142857142857143, 'recall': 0.58, 'f1-score': 0.4833333333333334, 'support': 100}, '15': {'precision': 0.6666666666666666, 'recall': 0.6, 'f1-score': 0.631578947368421, 'support': 100}, '16': {'precision': 0.6666666666666666, 'recall': 0.72, 'f1-score': 0.6923076923076923, 'support': 100}, '17': {'precision': 0.7614678899082569, 'recall': 0.83, 'f1-score': 0.7942583732057417, 'support': 100}, '18': {'precision': 0.4645669291338583, 'recall': 0.59, 'f1-score': 0.5198237885462555, 'support': 100}, '19': {'precision': 0.5, 'recall': 0.62, 'f1-score': 0.5535714285714285, 'support': 100}, '20': {'precision': 0.8297872340425532, 'recall': 0.78, 'f1-score': 0.8041237113402062, 'support': 100}, '21': {'precision': 0.8552631578947368, 'recall': 0.65, 'f1-score': 0.7386363636363636, 'support': 100}, '22': {'precision': 0.7032967032967034, 'recall': 0.64, 'f1-score': 0.6701570680628273, 'support': 100}, '23': {'precision': 0.8333333333333334, 'recall': 0.6, 'f1-score': 0.6976744186046512, 'support': 100}, '24': {'precision': 0.7450980392156863, 'recall': 0.76, 'f1-score': 0.7524752475247525, 'support': 100}, '25': {'precision': 0.6944444444444444, 'recall': 0.5, 'f1-score': 0.5813953488372093, 'support': 100}, '26': {'precision': 0.5714285714285714, 'recall': 0.48, 'f1-score': 0.5217391304347826, 'support': 100}, '27': {'precision': 0.3163841807909605, 'recall': 0.56, 'f1-score': 0.40433212996389895, 'support': 100}, '28': {'precision': 0.6896551724137931, 'recall': 0.8, 'f1-score': 0.7407407407407408, 'support': 100}, '29': {'precision': 0.6222222222222222, 'recall': 0.56, 'f1-score': 0.5894736842105264, 'support': 100}, '30': {'precision': 0.5166666666666667, 'recall': 0.62, 'f1-score': 0.5636363636363637, 'support': 100}, '31': {'precision': 0.7941176470588235, 'recall': 0.54, 'f1-score': 0.6428571428571429, 'support': 100}, '32': {'precision': 0.68, 'recall': 0.51, 'f1-score': 0.582857142857143, 'support': 100}, '33': {'precision': 0.5882352941176471, 'recall': 0.5, 'f1-score': 0.5405405405405405, 'support': 100}, '34': {'precision': 0.7160493827160493, 'recall': 0.58, 'f1-score': 0.6408839779005524, 'support': 100}, '35': {'precision': 0.45121951219512196, 'recall': 0.37, 'f1-score': 0.4065934065934066, 'support': 100}, '36': {'precision': 0.8311688311688312, 'recall': 0.64, 'f1-score': 0.7231638418079096, 'support': 100}, '37': {'precision': 0.7972972972972973, 'recall': 0.59, 'f1-score': 0.6781609195402298, 'support': 100}, '38': {'precision': 0.6417910447761194, 'recall': 0.43, 'f1-score': 0.5149700598802395, 'support': 100}, '39': {'precision': 0.7835051546391752, 'recall': 0.76, 'f1-score': 0.7715736040609137, 'support': 100}, '40': {'precision': 0.6447368421052632, 'recall': 0.49, 'f1-score': 0.5568181818181819, 'support': 100}, '41': {'precision': 0.891566265060241, 'recall': 0.74, 'f1-score': 0.8087431693989071, 'support': 100}, '42': {'precision': 0.4319526627218935, 'recall': 0.73, 'f1-score': 0.5427509293680297, 'support': 100}, '43': {'precision': 0.7435897435897436, 'recall': 0.58, 'f1-score': 0.6516853932584269, 'support': 100}, '44': {'precision': 0.2469879518072289, 'recall': 0.41, 'f1-score': 0.3082706766917293, 'support': 100}, '45': {'precision': 0.4166666666666667, 'recall': 0.45, 'f1-score': 0.43269230769230765, 'support': 100}, '46': {'precision': 0.4056603773584906, 'recall': 0.43, 'f1-score': 0.41747572815533984, 'support': 100}, '47': {'precision': 0.5544554455445545, 'recall': 0.56, 'f1-score': 0.5572139303482587, 'support': 100}, '48': {'precision': 0.6764705882352942, 'recall': 0.92, 'f1-score': 0.7796610169491526, 'support': 100}, '49': {'precision': 0.6923076923076923, 'recall': 0.81, 'f1-score': 0.7465437788018433, 'support': 100}, '50': {'precision': 0.6428571428571429, 'recall': 0.36, 'f1-score': 0.4615384615384615, 'support': 100}, '51': {'precision': 0.5887850467289719, 'recall': 0.63, 'f1-score': 0.6086956521739131, 'support': 100}, '52': {'precision': 0.5294117647058824, 'recall': 0.72, 'f1-score': 0.6101694915254237, 'support': 100}, '53': {'precision': 0.8037383177570093, 'recall': 0.86, 'f1-score': 0.8309178743961353, 'support': 100}, '54': {'precision': 0.680672268907563, 'recall': 0.81, 'f1-score': 0.7397260273972603, 'support': 100}, '55': {'precision': 0.3382352941176471, 'recall': 0.23, 'f1-score': 0.27380952380952384, 'support': 100}, '56': {'precision': 0.664179104477612, 'recall': 0.89, 'f1-score': 0.7606837606837609, 'support': 100}, '57': {'precision': 0.6371681415929203, 'recall': 0.72, 'f1-score': 0.6760563380281691, 'support': 100}, '58': {'precision': 0.7926829268292683, 'recall': 0.65, 'f1-score': 0.7142857142857142, 'support': 100}, '59': {'precision': 0.5247524752475248, 'recall': 0.53, 'f1-score': 0.527363184079602, 'support': 100}, '60': {'precision': 0.7345132743362832, 'recall': 0.83, 'f1-score': 0.7793427230046949, 'support': 100}, '61': {'precision': 0.696969696969697, 'recall': 0.69, 'f1-score': 0.6934673366834171, 'support': 100}, '62': {'precision': 0.7263157894736842, 'recall': 0.69, 'f1-score': 0.7076923076923077, 'support': 100}, '63': {'precision': 0.5353535353535354, 'recall': 0.53, 'f1-score': 0.5326633165829145, 'support': 100}, '64': {'precision': 0.5465116279069767, 'recall': 0.47, 'f1-score': 0.5053763440860215, 'support': 100}, '65': {'precision': 0.4936708860759494, 'recall': 0.39, 'f1-score': 0.43575418994413406, 'support': 100}, '66': {'precision': 0.45348837209302323, 'recall': 0.78, 'f1-score': 0.5735294117647058, 'support': 100}, '67': {'precision': 0.6296296296296297, 'recall': 0.34, 'f1-score': 0.4415584415584416, 'support': 100}, '68': {'precision': 0.8125, 'recall': 0.91, 'f1-score': 0.8584905660377358, 'support': 100}, '69': {'precision': 0.6363636363636364, 'recall': 0.77, 'f1-score': 0.6968325791855204, 'support': 100}, '70': {'precision': 0.8301886792452831, 'recall': 0.44, 'f1-score': 0.5751633986928104, 'support': 100}, '71': {'precision': 0.6311475409836066, 'recall': 0.77, 'f1-score': 0.6936936936936937, 'support': 100}, '72': {'precision': 0.2767857142857143, 'recall': 0.31, 'f1-score': 0.2924528301886793, 'support': 100}, '73': {'precision': 0.44554455445544555, 'recall': 0.45, 'f1-score': 0.44776119402985076, 'support': 100}, '74': {'precision': 0.37404580152671757, 'recall': 0.49, 'f1-score': 0.4242424242424242, 'support': 100}, '75': {'precision': 0.6137931034482759, 'recall': 0.89, 'f1-score': 0.7265306122448979, 'support': 100}, '76': {'precision': 0.8709677419354839, 'recall': 0.81, 'f1-score': 0.8393782383419689, 'support': 100}, '77': {'precision': 0.4573643410852713, 'recall': 0.59, 'f1-score': 0.5152838427947598, 'support': 100}, '78': {'precision': 0.6, 'recall': 0.42, 'f1-score': 0.49411764705882355, 'support': 100}, '79': {'precision': 0.6019417475728155, 'recall': 0.62, 'f1-score': 0.6108374384236454, 'support': 100}, '80': {'precision': 0.5060240963855421, 'recall': 0.42, 'f1-score': 0.4590163934426229, 'support': 100}, '81': {'precision': 0.5833333333333334, 'recall': 0.7, 'f1-score': 0.6363636363636365, 'support': 100}, '82': {'precision': 0.9176470588235294, 'recall': 0.78, 'f1-score': 0.8432432432432432, 'support': 100}, '83': {'precision': 0.5321100917431193, 'recall': 0.58, 'f1-score': 0.5550239234449761, 'support': 100}, '84': {'precision': 0.6296296296296297, 'recall': 0.51, 'f1-score': 0.5635359116022101, 'support': 100}, '85': {'precision': 0.8732394366197183, 'recall': 0.62, 'f1-score': 0.7251461988304093, 'support': 100}, '86': {'precision': 0.7906976744186046, 'recall': 0.68, 'f1-score': 0.7311827956989247, 'support': 100}, '87': {'precision': 0.5895522388059702, 'recall': 0.79, 'f1-score': 0.6752136752136753, 'support': 100}, '88': {'precision': 0.6804123711340206, 'recall': 0.66, 'f1-score': 0.6700507614213199, 'support': 100}, '89': {'precision': 0.810126582278481, 'recall': 0.64, 'f1-score': 0.7150837988826816, 'support': 100}, '90': {'precision': 0.6956521739130435, 'recall': 0.64, 'f1-score': 0.6666666666666666, 'support': 100}, '91': {'precision': 0.5588235294117647, 'recall': 0.76, 'f1-score': 0.6440677966101696, 'support': 100}, '92': {'precision': 0.5462962962962963, 'recall': 0.59, 'f1-score': 0.5673076923076923, 'support': 100}, '93': {'precision': 0.45918367346938777, 'recall': 0.45, 'f1-score': 0.45454545454545453, 'support': 100}, '94': {'precision': 0.8888888888888888, 'recall': 0.8, 'f1-score': 0.8421052631578948, 'support': 100}, '95': {'precision': 0.5545454545454546, 'recall': 0.61, 'f1-score': 0.580952380952381, 'support': 100}, '96': {'precision': 0.547945205479452, 'recall': 0.4, 'f1-score': 0.4624277456647399, 'support': 100}, '97': {'precision': 0.7058823529411765, 'recall': 0.6, 'f1-score': 0.6486486486486486, 'support': 100}, '98': {'precision': 0.49333333333333335, 'recall': 0.37, 'f1-score': 0.4228571428571429, 'support': 100}, '99': {'precision': 0.4838709677419355, 'recall': 0.75, 'f1-score': 0.5882352941176471, 'support': 100}, 'accuracy': 0.6083, 'macro avg': {'precision': 0.6302599724191597, 'recall': 0.6083, 'f1-score': 0.608586912401683, 'support': 10000}, 'weighted avg': {'precision': 0.6302599724191597, 'recall': 0.6083, 'f1-score': 0.6085869124016831, 'support': 10000}}\n"
          ],
          "name": "stdout"
        }
      ]
    },
    {
      "cell_type": "code",
      "metadata": {
        "colab": {
          "base_uri": "https://localhost:8080/"
        },
        "id": "svqladNKRJis",
        "outputId": "b6a3c175-3746-410c-b06c-4ee97f412d64"
      },
      "source": [
        "len(labels)"
      ],
      "id": "svqladNKRJis",
      "execution_count": 80,
      "outputs": [
        {
          "output_type": "execute_result",
          "data": {
            "text/plain": [
              "10000"
            ]
          },
          "metadata": {
            "tags": []
          },
          "execution_count": 80
        }
      ]
    },
    {
      "cell_type": "markdown",
      "metadata": {
        "id": "-ATVLJRE3d_K"
      },
      "source": [
        "## Generate feature maps\n",
        "\n",
        "The visualization code from [utkuozbulak/pytorch-cnn-visualizations](https://github.com/utkuozbulak/pytorch-cnn-visualizations#gradient-visualization) did not work to the model not being currently supported; see [this](https://github.com/utkuozbulak/pytorch-cnn-visualizations/issues/82) issue"
      ],
      "id": "-ATVLJRE3d_K"
    },
    {
      "cell_type": "code",
      "metadata": {
        "colab": {
          "base_uri": "https://localhost:8080/"
        },
        "id": "MSQPBwp4NFDy",
        "outputId": "94f1b156-4c2a-472e-accc-dec326a89e3e"
      },
      "source": [
        "!pip install medcam"
      ],
      "id": "MSQPBwp4NFDy",
      "execution_count": 58,
      "outputs": [
        {
          "output_type": "stream",
          "text": [
            "Collecting medcam\n",
            "  Downloading https://files.pythonhosted.org/packages/b1/0d/91bfd635f94ba22f325bc768999f79cb7a15172effdd0e0b8dac9ca85197/medcam-0.1.19-py3-none-any.whl\n",
            "Requirement already satisfied: cycler in /usr/local/lib/python3.7/dist-packages (from medcam) (0.10.0)\n",
            "Requirement already satisfied: decorator in /usr/local/lib/python3.7/dist-packages (from medcam) (4.4.2)\n",
            "Requirement already satisfied: PyWavelets in /usr/local/lib/python3.7/dist-packages (from medcam) (1.1.1)\n",
            "Requirement already satisfied: nibabel in /usr/local/lib/python3.7/dist-packages (from medcam) (3.0.2)\n",
            "Requirement already satisfied: kiwisolver in /usr/local/lib/python3.7/dist-packages (from medcam) (1.3.1)\n",
            "Collecting SimpleITK\n",
            "\u001b[?25l  Downloading https://files.pythonhosted.org/packages/9c/6b/85df5eb3a8059b23a53a9f224476e75473f9bcc0a8583ed1a9c34619f372/SimpleITK-2.0.2-cp37-cp37m-manylinux2010_x86_64.whl (47.4MB)\n",
            "\u001b[K     |████████████████████████████████| 47.4MB 64kB/s \n",
            "\u001b[?25hRequirement already satisfied: MarkupSafe in /usr/local/lib/python3.7/dist-packages (from medcam) (1.1.1)\n",
            "Requirement already satisfied: pandas in /usr/local/lib/python3.7/dist-packages (from medcam) (1.1.5)\n",
            "Collecting Mako\n",
            "\u001b[?25l  Downloading https://files.pythonhosted.org/packages/f3/54/dbc07fbb20865d3b78fdb7cf7fa713e2cba4f87f71100074ef2dc9f9d1f7/Mako-1.1.4-py2.py3-none-any.whl (75kB)\n",
            "\u001b[K     |████████████████████████████████| 81kB 12.4MB/s \n",
            "\u001b[?25hRequirement already satisfied: imageio in /usr/local/lib/python3.7/dist-packages (from medcam) (2.4.1)\n",
            "Requirement already satisfied: certifi in /usr/local/lib/python3.7/dist-packages (from medcam) (2020.12.5)\n",
            "Requirement already satisfied: Markdown in /usr/local/lib/python3.7/dist-packages (from medcam) (3.3.4)\n",
            "Requirement already satisfied: numpy in /usr/local/lib/python3.7/dist-packages (from medcam) (1.19.5)\n",
            "Requirement already satisfied: scikit-image in /usr/local/lib/python3.7/dist-packages (from medcam) (0.16.2)\n",
            "Requirement already satisfied: future in /usr/local/lib/python3.7/dist-packages (from medcam) (0.16.0)\n",
            "Requirement already satisfied: python-dateutil in /usr/local/lib/python3.7/dist-packages (from medcam) (2.8.1)\n",
            "Requirement already satisfied: six in /usr/local/lib/python3.7/dist-packages (from medcam) (1.15.0)\n",
            "Requirement already satisfied: opencv-python in /usr/local/lib/python3.7/dist-packages (from medcam) (4.1.2.30)\n",
            "Requirement already satisfied: pytz in /usr/local/lib/python3.7/dist-packages (from medcam) (2018.9)\n",
            "Requirement already satisfied: matplotlib in /usr/local/lib/python3.7/dist-packages (from medcam) (3.2.2)\n",
            "Requirement already satisfied: networkx in /usr/local/lib/python3.7/dist-packages (from medcam) (2.5.1)\n",
            "Requirement already satisfied: pyparsing in /usr/local/lib/python3.7/dist-packages (from medcam) (2.4.7)\n",
            "Requirement already satisfied: scipy in /usr/local/lib/python3.7/dist-packages (from medcam) (1.4.1)\n",
            "Requirement already satisfied: packaging in /usr/local/lib/python3.7/dist-packages (from medcam) (20.9)\n",
            "Requirement already satisfied: Pillow in /usr/local/lib/python3.7/dist-packages (from medcam) (7.1.2)\n",
            "Requirement already satisfied: importlib-metadata; python_version < \"3.8\" in /usr/local/lib/python3.7/dist-packages (from Markdown->medcam) (4.0.1)\n",
            "Requirement already satisfied: typing-extensions>=3.6.4; python_version < \"3.8\" in /usr/local/lib/python3.7/dist-packages (from importlib-metadata; python_version < \"3.8\"->Markdown->medcam) (3.7.4.3)\n",
            "Requirement already satisfied: zipp>=0.5 in /usr/local/lib/python3.7/dist-packages (from importlib-metadata; python_version < \"3.8\"->Markdown->medcam) (3.4.1)\n",
            "Installing collected packages: SimpleITK, Mako, medcam\n",
            "Successfully installed Mako-1.1.4 SimpleITK-2.0.2 medcam-0.1.19\n"
          ],
          "name": "stdout"
        }
      ]
    },
    {
      "cell_type": "code",
      "metadata": {
        "id": "_cwsSR-w3d_K"
      },
      "source": [
        "# Import M3d-CAM\n",
        "from medcam import medcam\n",
        "from torchvision.utils import save_image"
      ],
      "id": "_cwsSR-w3d_K",
      "execution_count": 59,
      "outputs": []
    },
    {
      "cell_type": "code",
      "metadata": {
        "id": "VH-ENfub3d_L",
        "colab": {
          "base_uri": "https://localhost:8080/"
        },
        "outputId": "f09fe13d-b7f8-4bd6-f17f-751a32515f95"
      },
      "source": [
        "%time\n",
        "amount = 100\n",
        "\n",
        "# !rm attention_maps/ -r\n",
        "# !rm images/ -r\n",
        "# !mkdir images\n",
        "\n",
        "# We must use batch_size = 1 for this to work\n",
        "temp_loader = cifar100_helper.cifar100(\"./\", 32, None, None, batch_size=1, num_workers=1, is_vit=True, shuffle=False)[1]\n",
        "model1 = medcam.inject(teacher_model, output_dir=BASE_DIR + \"teacher_attention_maps\", save_maps=True, backend=\"gbp\", )\n",
        "model2 = medcam.inject(distiller.student_model, output_dir=BASE_DIR + \"student_attention_maps\", save_maps=True, \n",
        "                      backend=\"gbp\")\n",
        "\n",
        "\n",
        "model.eval()\n",
        "for idx, (batch_x, batch_y) in enumerate(temp_loader):\n",
        "    if idx == amount:\n",
        "        break\n",
        "    # Every time forward is called, attention maps will be generated and saved in the directory \"attention_maps\"\n",
        "    save_image(batch_x[0].detach(), BASE_DIR + f\"images/{idx}.png\")\n",
        "    output = model1(batch_x.cuda())\n",
        "    output = model2(batch_x.cuda())"
      ],
      "id": "VH-ENfub3d_L",
      "execution_count": 67,
      "outputs": [
        {
          "output_type": "stream",
          "text": [
            "CPU times: user 4 µs, sys: 1e+03 ns, total: 5 µs\n",
            "Wall time: 12.9 µs\n",
            "Files already downloaded and verified\n",
            "Files already downloaded and verified\n"
          ],
          "name": "stdout"
        },
        {
          "output_type": "stream",
          "text": [
            "/usr/local/lib/python3.7/dist-packages/torch/nn/modules/module.py:795: UserWarning: Using a non-full backward hook when the forward contains multiple autograd Nodes is deprecated and will be removed in future versions. This hook will be missing some grad_input. Please use register_full_backward_hook to get the documented behavior.\n",
            "  warnings.warn(\"Using a non-full backward hook when the forward contains multiple autograd Nodes \"\n"
          ],
          "name": "stderr"
        }
      ]
    }
  ]
}