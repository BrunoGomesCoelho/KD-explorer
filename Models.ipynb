{
 "cells": [
  {
   "cell_type": "markdown",
   "metadata": {},
   "source": [
    "## Setup"
   ]
  },
  {
   "cell_type": "code",
   "execution_count": 1,
   "metadata": {},
   "outputs": [],
   "source": [
    "import json\n",
    "from pprint import pprint\n",
    "\n",
    "import cifar100_helper  # local\n",
    "\n",
    "import numpy as np\n",
    "import pandas as pd\n",
    "import matplotlib.pyplot as plt\n",
    "\n",
    "import torch\n",
    "import torchvision\n",
    "\n",
    "from sklearn.metrics import (classification_report, accuracy_score, confusion_matrix,\n",
    "                             ConfusionMatrixDisplay)"
   ]
  },
  {
   "cell_type": "code",
   "execution_count": 2,
   "metadata": {},
   "outputs": [
    {
     "name": "stderr",
     "output_type": "stream",
     "text": [
      "Using cache found in /home/bruno/.cache/torch/hub/chenyaofo_pytorch-cifar-models_master\n",
      "Using cache found in /home/bruno/.cache/torch/hub/chenyaofo_pytorch-cifar-models_master\n"
     ]
    }
   ],
   "source": [
    "# Use this to view all the available models\n",
    "# pprint(torch.hub.list(\"chenyaofo/pytorch-cifar-models\", force_reload=True))\n",
    "student_model = torch.hub.load(\"chenyaofo/pytorch-cifar-models\", \"cifar100_resnet20\", pretrained=True)\n",
    "teacher_model = torch.hub.load(\"chenyaofo/pytorch-cifar-models\", \"cifar100_resnet56\", pretrained=True)"
   ]
  },
  {
   "cell_type": "code",
   "execution_count": 3,
   "metadata": {},
   "outputs": [
    {
     "name": "stdout",
     "output_type": "stream",
     "text": [
      "Files already downloaded and verified\n",
      "Files already downloaded and verified\n"
     ]
    }
   ],
   "source": [
    "train_loader, test_load = cifar100_helper.cifar100(\"./\", 32, None, None, batch_size=1000, num_workers=4, is_vit=True)"
   ]
  },
  {
   "cell_type": "code",
   "execution_count": 4,
   "metadata": {},
   "outputs": [],
   "source": [
    "idx_to_class = {v:k for k, v in train_loader.dataset.class_to_idx.items()}\n",
    "idx_to_class_vec = np.array(list(idx_to_class.values()))"
   ]
  },
  {
   "cell_type": "code",
   "execution_count": 5,
   "metadata": {},
   "outputs": [],
   "source": [
    "# functions to show an image\n",
    "def imshow(img, to_numpy=True):\n",
    "    img = img / 2 + 0.5     # unnormalize\n",
    "    if to_numpy:\n",
    "        npimg = img.numpy()\n",
    "    else:\n",
    "        npimg = img\n",
    "    plt.imshow(np.transpose(npimg, (1, 2, 0)))\n",
    "    plt.show()\n",
    "    return img\n",
    "\n",
    "# get some random training images\n",
    "dataiter = iter(train_loader)\n",
    "images, labels = dataiter.next()\n",
    "\n",
    "# show images\n",
    "# imshow(torchvision.utils.make_grid(images))\n",
    "# print labels\n",
    "# print(' '.join('%5s' % idx_to_class[labels[j].item()] for j in range(32)))"
   ]
  },
  {
   "cell_type": "code",
   "execution_count": 7,
   "metadata": {},
   "outputs": [],
   "source": [
    "def print_acc(model, loader):\n",
    "    correct = 0\n",
    "    total = 0\n",
    "    # since we're not training, we don't need to calculate the gradients for our outputs\n",
    "    with torch.no_grad():\n",
    "        for data in loader:\n",
    "            images, labels = data\n",
    "            # calculate outputs by running images through the network\n",
    "            outputs = model(images)\n",
    "            # the class with the highest energy is what we choose as prediction\n",
    "            _, predicted = torch.max(outputs.data, 1)\n",
    "            total += labels.size(0)\n",
    "            correct += (predicted == labels).sum().item()\n",
    "            \n",
    "    print(f'Accuracy of the network on the {len(loader.dataset)} test images: %d %%' % (100 * correct / total))"
   ]
  },
  {
   "cell_type": "code",
   "execution_count": 8,
   "metadata": {},
   "outputs": [],
   "source": [
    "# results for our model\n",
    "# print(\"teacher model \", end=\"\")\n",
    "# print_acc(teacher_model, val_load)\n",
    "# print(\"student model \", end=\"\")\n",
    "# print_acc(student_model, val_load)"
   ]
  },
  {
   "cell_type": "code",
   "execution_count": 9,
   "metadata": {},
   "outputs": [],
   "source": [
    "# get some random test images\n",
    "dataiter = iter(test_load)\n",
    "images, labels = dataiter.next()\n",
    "\n",
    "outputs = teacher_model(images)\n",
    "_, predicted = torch.max(outputs, 1)"
   ]
  },
  {
   "cell_type": "markdown",
   "metadata": {},
   "source": [
    "## Log results/metrics for this single batch "
   ]
  },
  {
   "cell_type": "markdown",
   "metadata": {},
   "source": [
    "Write metrics"
   ]
  },
  {
   "cell_type": "code",
   "execution_count": 10,
   "metadata": {},
   "outputs": [],
   "source": [
    "results = classification_report(labels, predicted, output_dict=True)\n",
    "results = {idx_to_class[int(k)]: v for k,v in results.items() if k.isnumeric()}\n",
    "\n",
    "with open('metrics.json', 'w') as fp:\n",
    "    json.dump(results, fp, sort_keys=True, indent=4)\n",
    "    \n",
    "with open('accuracy.json', 'w') as fp:\n",
    "    json.dump({\"accuracy\": accuracy_score(labels, predicted)}, fp)"
   ]
  },
  {
   "cell_type": "markdown",
   "metadata": {},
   "source": [
    "Write correlations"
   ]
  },
  {
   "cell_type": "code",
   "execution_count": 11,
   "metadata": {},
   "outputs": [],
   "source": [
    "cm = pd.DataFrame(confusion_matrix(labels, predicted), columns=idx_to_class.values(), index=idx_to_class.values())\n",
    "cm.to_json(\"confusion_matrix_100.json\", indent=True)"
   ]
  },
  {
   "cell_type": "markdown",
   "metadata": {},
   "source": [
    "Now for the 20 classes version correlation:"
   ]
  },
  {
   "cell_type": "code",
   "execution_count": 12,
   "metadata": {},
   "outputs": [],
   "source": [
    "# from https://github.com/ryanchankh/cifar100coarse\n",
    "def sparse2coarse(targets):\n",
    "    \"\"\"Convert Pytorch CIFAR100 sparse targets to coarse targets.\n",
    "    Usage:\n",
    "        trainset = torchvision.datasets.CIFAR100(path)\n",
    "        trainset.targets = sparse2coarse(trainset.targets)\n",
    "    \"\"\"\n",
    "    coarse_labels = np.array([ 4,  1, 14,  8,  0,  6,  7,  7, 18,  3,  \n",
    "                               3, 14,  9, 18,  7, 11,  3,  9,  7, 11,\n",
    "                               6, 11,  5, 10,  7,  6, 13, 15,  3, 15,  \n",
    "                               0, 11,  1, 10, 12, 14, 16,  9, 11,  5, \n",
    "                               5, 19,  8,  8, 15, 13, 14, 17, 18, 10, \n",
    "                               16, 4, 17,  4,  2,  0, 17,  4, 18, 17, \n",
    "                               10, 3,  2, 12, 12, 16, 12,  1,  9, 19,  \n",
    "                               2, 10,  0,  1, 16, 12,  9, 13, 15, 13, \n",
    "                              16, 19,  2,  4,  6, 19,  5,  5,  8, 19, \n",
    "                              18,  1,  2, 15,  6,  0, 17,  8, 14, 13])\n",
    "    return coarse_labels[targets]"
   ]
  },
  {
   "cell_type": "code",
   "execution_count": 13,
   "metadata": {},
   "outputs": [],
   "source": [
    "idx_to_class20 = {i:x for i,x in enumerate([\n",
    "    'aquatic mammals', 'fish', 'flowers', 'food containers', 'fruit and vegetables', 'household electrical devices', 'household furniture', 'insects', \n",
    "     'large carnivores', 'large man-made outdoor things', 'large natural outdoor scenes', 'large omnivores and herbivores', 'medium-sized mammals', 'non-insect invertebrates', \n",
    "    'people', 'reptiles', 'small mammals', 'trees', 'vehicles 1', 'vehicles 2'\n",
    "])}"
   ]
  },
  {
   "cell_type": "code",
   "execution_count": 14,
   "metadata": {},
   "outputs": [],
   "source": [
    "cm = pd.DataFrame(confusion_matrix(sparse2coarse(labels), sparse2coarse(predicted)), columns=idx_to_class20.values(), index=idx_to_class20.values())\n",
    "cm.to_json(\"confusion_matrix_20.json\", indent=True)"
   ]
  },
  {
   "cell_type": "markdown",
   "metadata": {},
   "source": [
    "## Generate feature maps\n",
    "\n",
    "The visualization code from [utkuozbulak/pytorch-cnn-visualizations](https://github.com/utkuozbulak/pytorch-cnn-visualizations#gradient-visualization) did not work to the model not being currently supported; see [this](https://github.com/utkuozbulak/pytorch-cnn-visualizations/issues/82) issue"
   ]
  },
  {
   "cell_type": "code",
   "execution_count": 15,
   "metadata": {},
   "outputs": [],
   "source": [
    "# Import M3d-CAM\n",
    "from medcam import medcam\n",
    "from torchvision.utils import save_image"
   ]
  },
  {
   "cell_type": "code",
   "execution_count": null,
   "metadata": {},
   "outputs": [
    {
     "name": "stdout",
     "output_type": "stream",
     "text": [
      "CPU times: user 4 µs, sys: 2 µs, total: 6 µs\n",
      "Wall time: 11.4 µs\n"
     ]
    }
   ],
   "source": [
    "%time\n",
    "amount = 100\n",
    "\n",
    "!rm attention_maps/ -r\n",
    "!rm images/ -r\n",
    "!mkdir images\n",
    "\n",
    "\n",
    "# We must use batch_size = 1 for this to work\n",
    "temp_loader = cifar100_helper.cifar100(\"./\", 32, None, None, batch_size=1, num_workers=1, is_vit=True, shuffle=False)[1]\n",
    "model = medcam.inject(teacher_model, output_dir=\"attention_maps\", save_maps=True, backend=\"gbp\", )\n",
    "\n",
    "model.eval()\n",
    "for idx, (batch_x, batch_y) in enumerate(temp_loader):\n",
    "    if idx == amount:\n",
    "        break\n",
    "    # Every time forward is called, attention maps will be generated and saved in the directory \"attention_maps\"\n",
    "    save_image(batch_x[0].detach(), f\"images/{idx}.png\")\n",
    "    output = model(batch_x)"
   ]
  },
  {
   "cell_type": "code",
   "execution_count": 23,
   "metadata": {},
   "outputs": [],
   "source": []
  },
  {
   "cell_type": "code",
   "execution_count": null,
   "metadata": {},
   "outputs": [],
   "source": []
  }
 ],
 "metadata": {
  "kernelspec": {
   "display_name": "Python 3",
   "language": "python",
   "name": "python3"
  },
  "language_info": {
   "codemirror_mode": {
    "name": "ipython",
    "version": 3
   },
   "file_extension": ".py",
   "mimetype": "text/x-python",
   "name": "python",
   "nbconvert_exporter": "python",
   "pygments_lexer": "ipython3",
   "version": "3.6.9"
  },
  "latex_envs": {
   "LaTeX_envs_menu_present": true,
   "autoclose": false,
   "autocomplete": false,
   "bibliofile": "biblio.bib",
   "cite_by": "apalike",
   "current_citInitial": 1,
   "eqLabelWithNumbers": false,
   "eqNumInitial": 1,
   "hotkeys": {
    "equation": "Ctrl-E",
    "itemize": "Ctrl-I"
   },
   "labels_anchors": false,
   "latex_user_defs": false,
   "report_style_numbering": false,
   "user_envs_cfg": false
  },
  "toc": {
   "base_numbering": 1,
   "nav_menu": {},
   "number_sections": true,
   "sideBar": true,
   "skip_h1_title": false,
   "title_cell": "Table of Contents",
   "title_sidebar": "Contents",
   "toc_cell": false,
   "toc_position": {},
   "toc_section_display": true,
   "toc_window_display": false
  }
 },
 "nbformat": 4,
 "nbformat_minor": 5
}
